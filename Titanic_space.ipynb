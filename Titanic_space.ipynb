{
 "cells": [
  {
   "cell_type": "markdown",
   "id": "66073d36",
   "metadata": {},
   "source": [
    "# Spaceship Titanic\n",
    "**Predict which passengers are transported to an alternate dimension**"
   ]
  },
  {
   "cell_type": "markdown",
   "id": "6902d3f8",
   "metadata": {},
   "source": [
    "<img src =\"https://www.fbcoverlover.com/covers/Two-Planets-in-space-fb-facebook-cover-timeline-profile-picture.jpg?i\">"
   ]
  },
  {
   "cell_type": "markdown",
   "id": "53e53afe",
   "metadata": {},
   "source": [
    "Welcome to the year 2912, where your data science skills are needed to solve a cosmic mystery. We've received a transmission from four lightyears away and things aren't looking good.\n",
    "\n",
    "The Spaceship Titanic was an interstellar passenger liner launched a month ago. With almost 13,000 passengers on board, the vessel set out on its maiden voyage transporting emigrants from our solar system to three newly habitable exoplanets orbiting nearby stars.\n",
    "\n",
    "While rounding Alpha Centauri en route to its first destination—the torrid 55 Cancri E—the unwary Spaceship Titanic collided with a spacetime anomaly hidden within a dust cloud. Sadly, it met a similar fate as its namesake from 1000 years before. Though the ship stayed intact, almost half of the passengers were transported to an alternate dimension!\n",
    "\n",
    "To help rescue crews and retrieve the lost passengers, you are challenged to predict which passengers were transported by the anomaly using records recovered from the spaceship’s damaged computer system.\n",
    "\n",
    "Help save them and change history!\n"
   ]
  },
  {
   "cell_type": "markdown",
   "id": "520c462d-5e37-4b4a-94f1-d3fa52d68e3b",
   "metadata": {},
   "source": [
    "**Source:** Kaggle"
   ]
  },
  {
   "cell_type": "markdown",
   "id": "73e5fed2",
   "metadata": {},
   "source": [
    "\n",
    "<h1 style=\"background-color:SeaGreen;text-align: center\"> Table of Contents</h1>\n",
    "<p style=\"background-color:MediumSeaGreen;text-align: center\">\n",
    "1.Import Libraries<br>\n",
    "2.Checking DataSet<br>\n",
    "3.Exploratory Data Analysis & Data Visualisation<br>\n",
    "4.Preprocessing<br>\n",
    "5.Model Analysis<br>\n",
    "6.Test Prediction <br>\n",
    "\n",
    "Created by: Deepika Kumar\n",
    "</p>"
   ]
  },
  {
   "cell_type": "markdown",
   "id": "7d7a2b15",
   "metadata": {},
   "source": [
    "\n",
    "\n",
    "<h1 style=\"background-color:yellow;text-align: center\">1. Import Libraries</h1>"
   ]
  },
  {
   "cell_type": "code",
   "execution_count": 245,
   "id": "fdef5af9",
   "metadata": {},
   "outputs": [],
   "source": [
    "import matplotlib\n",
    "import matplotlib.gridspec as gridspec\n",
    "import warnings\n",
    "warnings.filterwarnings('ignore')\n",
    "import klib\n",
    "\n",
    "\n",
    "import numpy as np\n",
    "import pandas as pd\n",
    "import matplotlib.pyplot as plt\n",
    "import seaborn as sns\n",
    "\n",
    "import plotly.express as px\n",
    "import plotly.graph_objects as go\n",
    "from plotly.subplots import make_subplots\n",
    "from plotly.offline import init_notebook_mode, iplot\n",
    "import plotly.subplots as sp\n"
   ]
  },
  {
   "cell_type": "markdown",
   "id": "2fb94784",
   "metadata": {},
   "source": [
    "\n",
    "<h1 style=\"background-color:yellow;text-align: center\">2. Checking DataSet</h1>"
   ]
  },
  {
   "cell_type": "code",
   "execution_count": 117,
   "id": "09234a53",
   "metadata": {},
   "outputs": [
    {
     "data": {
      "text/html": [
       "<div>\n",
       "<style scoped>\n",
       "    .dataframe tbody tr th:only-of-type {\n",
       "        vertical-align: middle;\n",
       "    }\n",
       "\n",
       "    .dataframe tbody tr th {\n",
       "        vertical-align: top;\n",
       "    }\n",
       "\n",
       "    .dataframe thead th {\n",
       "        text-align: right;\n",
       "    }\n",
       "</style>\n",
       "<table border=\"1\" class=\"dataframe\">\n",
       "  <thead>\n",
       "    <tr style=\"text-align: right;\">\n",
       "      <th></th>\n",
       "      <th>PassengerId</th>\n",
       "      <th>HomePlanet</th>\n",
       "      <th>CryoSleep</th>\n",
       "      <th>Cabin</th>\n",
       "      <th>Destination</th>\n",
       "      <th>Age</th>\n",
       "      <th>VIP</th>\n",
       "      <th>RoomService</th>\n",
       "      <th>FoodCourt</th>\n",
       "      <th>ShoppingMall</th>\n",
       "      <th>Spa</th>\n",
       "      <th>VRDeck</th>\n",
       "      <th>Name</th>\n",
       "      <th>Transported</th>\n",
       "    </tr>\n",
       "  </thead>\n",
       "  <tbody>\n",
       "    <tr>\n",
       "      <th>0</th>\n",
       "      <td>0001_01</td>\n",
       "      <td>Europa</td>\n",
       "      <td>False</td>\n",
       "      <td>B/0/P</td>\n",
       "      <td>TRAPPIST-1e</td>\n",
       "      <td>39.0</td>\n",
       "      <td>False</td>\n",
       "      <td>0.0</td>\n",
       "      <td>0.0</td>\n",
       "      <td>0.0</td>\n",
       "      <td>0.0</td>\n",
       "      <td>0.0</td>\n",
       "      <td>Maham Ofracculy</td>\n",
       "      <td>False</td>\n",
       "    </tr>\n",
       "    <tr>\n",
       "      <th>1</th>\n",
       "      <td>0002_01</td>\n",
       "      <td>Earth</td>\n",
       "      <td>False</td>\n",
       "      <td>F/0/S</td>\n",
       "      <td>TRAPPIST-1e</td>\n",
       "      <td>24.0</td>\n",
       "      <td>False</td>\n",
       "      <td>109.0</td>\n",
       "      <td>9.0</td>\n",
       "      <td>25.0</td>\n",
       "      <td>549.0</td>\n",
       "      <td>44.0</td>\n",
       "      <td>Juanna Vines</td>\n",
       "      <td>True</td>\n",
       "    </tr>\n",
       "    <tr>\n",
       "      <th>2</th>\n",
       "      <td>0003_01</td>\n",
       "      <td>Europa</td>\n",
       "      <td>False</td>\n",
       "      <td>A/0/S</td>\n",
       "      <td>TRAPPIST-1e</td>\n",
       "      <td>58.0</td>\n",
       "      <td>True</td>\n",
       "      <td>43.0</td>\n",
       "      <td>3576.0</td>\n",
       "      <td>0.0</td>\n",
       "      <td>6715.0</td>\n",
       "      <td>49.0</td>\n",
       "      <td>Altark Susent</td>\n",
       "      <td>False</td>\n",
       "    </tr>\n",
       "    <tr>\n",
       "      <th>3</th>\n",
       "      <td>0003_02</td>\n",
       "      <td>Europa</td>\n",
       "      <td>False</td>\n",
       "      <td>A/0/S</td>\n",
       "      <td>TRAPPIST-1e</td>\n",
       "      <td>33.0</td>\n",
       "      <td>False</td>\n",
       "      <td>0.0</td>\n",
       "      <td>1283.0</td>\n",
       "      <td>371.0</td>\n",
       "      <td>3329.0</td>\n",
       "      <td>193.0</td>\n",
       "      <td>Solam Susent</td>\n",
       "      <td>False</td>\n",
       "    </tr>\n",
       "    <tr>\n",
       "      <th>4</th>\n",
       "      <td>0004_01</td>\n",
       "      <td>Earth</td>\n",
       "      <td>False</td>\n",
       "      <td>F/1/S</td>\n",
       "      <td>TRAPPIST-1e</td>\n",
       "      <td>16.0</td>\n",
       "      <td>False</td>\n",
       "      <td>303.0</td>\n",
       "      <td>70.0</td>\n",
       "      <td>151.0</td>\n",
       "      <td>565.0</td>\n",
       "      <td>2.0</td>\n",
       "      <td>Willy Santantines</td>\n",
       "      <td>True</td>\n",
       "    </tr>\n",
       "    <tr>\n",
       "      <th>...</th>\n",
       "      <td>...</td>\n",
       "      <td>...</td>\n",
       "      <td>...</td>\n",
       "      <td>...</td>\n",
       "      <td>...</td>\n",
       "      <td>...</td>\n",
       "      <td>...</td>\n",
       "      <td>...</td>\n",
       "      <td>...</td>\n",
       "      <td>...</td>\n",
       "      <td>...</td>\n",
       "      <td>...</td>\n",
       "      <td>...</td>\n",
       "      <td>...</td>\n",
       "    </tr>\n",
       "    <tr>\n",
       "      <th>8688</th>\n",
       "      <td>9276_01</td>\n",
       "      <td>Europa</td>\n",
       "      <td>False</td>\n",
       "      <td>A/98/P</td>\n",
       "      <td>55 Cancri e</td>\n",
       "      <td>41.0</td>\n",
       "      <td>True</td>\n",
       "      <td>0.0</td>\n",
       "      <td>6819.0</td>\n",
       "      <td>0.0</td>\n",
       "      <td>1643.0</td>\n",
       "      <td>74.0</td>\n",
       "      <td>Gravior Noxnuther</td>\n",
       "      <td>False</td>\n",
       "    </tr>\n",
       "    <tr>\n",
       "      <th>8689</th>\n",
       "      <td>9278_01</td>\n",
       "      <td>Earth</td>\n",
       "      <td>True</td>\n",
       "      <td>G/1499/S</td>\n",
       "      <td>PSO J318.5-22</td>\n",
       "      <td>18.0</td>\n",
       "      <td>False</td>\n",
       "      <td>0.0</td>\n",
       "      <td>0.0</td>\n",
       "      <td>0.0</td>\n",
       "      <td>0.0</td>\n",
       "      <td>0.0</td>\n",
       "      <td>Kurta Mondalley</td>\n",
       "      <td>False</td>\n",
       "    </tr>\n",
       "    <tr>\n",
       "      <th>8690</th>\n",
       "      <td>9279_01</td>\n",
       "      <td>Earth</td>\n",
       "      <td>False</td>\n",
       "      <td>G/1500/S</td>\n",
       "      <td>TRAPPIST-1e</td>\n",
       "      <td>26.0</td>\n",
       "      <td>False</td>\n",
       "      <td>0.0</td>\n",
       "      <td>0.0</td>\n",
       "      <td>1872.0</td>\n",
       "      <td>1.0</td>\n",
       "      <td>0.0</td>\n",
       "      <td>Fayey Connon</td>\n",
       "      <td>True</td>\n",
       "    </tr>\n",
       "    <tr>\n",
       "      <th>8691</th>\n",
       "      <td>9280_01</td>\n",
       "      <td>Europa</td>\n",
       "      <td>False</td>\n",
       "      <td>E/608/S</td>\n",
       "      <td>55 Cancri e</td>\n",
       "      <td>32.0</td>\n",
       "      <td>False</td>\n",
       "      <td>0.0</td>\n",
       "      <td>1049.0</td>\n",
       "      <td>0.0</td>\n",
       "      <td>353.0</td>\n",
       "      <td>3235.0</td>\n",
       "      <td>Celeon Hontichre</td>\n",
       "      <td>False</td>\n",
       "    </tr>\n",
       "    <tr>\n",
       "      <th>8692</th>\n",
       "      <td>9280_02</td>\n",
       "      <td>Europa</td>\n",
       "      <td>False</td>\n",
       "      <td>E/608/S</td>\n",
       "      <td>TRAPPIST-1e</td>\n",
       "      <td>44.0</td>\n",
       "      <td>False</td>\n",
       "      <td>126.0</td>\n",
       "      <td>4688.0</td>\n",
       "      <td>0.0</td>\n",
       "      <td>0.0</td>\n",
       "      <td>12.0</td>\n",
       "      <td>Propsh Hontichre</td>\n",
       "      <td>True</td>\n",
       "    </tr>\n",
       "  </tbody>\n",
       "</table>\n",
       "<p>8693 rows × 14 columns</p>\n",
       "</div>"
      ],
      "text/plain": [
       "     PassengerId HomePlanet CryoSleep     Cabin    Destination   Age    VIP  \\\n",
       "0        0001_01     Europa     False     B/0/P    TRAPPIST-1e  39.0  False   \n",
       "1        0002_01      Earth     False     F/0/S    TRAPPIST-1e  24.0  False   \n",
       "2        0003_01     Europa     False     A/0/S    TRAPPIST-1e  58.0   True   \n",
       "3        0003_02     Europa     False     A/0/S    TRAPPIST-1e  33.0  False   \n",
       "4        0004_01      Earth     False     F/1/S    TRAPPIST-1e  16.0  False   \n",
       "...          ...        ...       ...       ...            ...   ...    ...   \n",
       "8688     9276_01     Europa     False    A/98/P    55 Cancri e  41.0   True   \n",
       "8689     9278_01      Earth      True  G/1499/S  PSO J318.5-22  18.0  False   \n",
       "8690     9279_01      Earth     False  G/1500/S    TRAPPIST-1e  26.0  False   \n",
       "8691     9280_01     Europa     False   E/608/S    55 Cancri e  32.0  False   \n",
       "8692     9280_02     Europa     False   E/608/S    TRAPPIST-1e  44.0  False   \n",
       "\n",
       "      RoomService  FoodCourt  ShoppingMall     Spa  VRDeck               Name  \\\n",
       "0             0.0        0.0           0.0     0.0     0.0    Maham Ofracculy   \n",
       "1           109.0        9.0          25.0   549.0    44.0       Juanna Vines   \n",
       "2            43.0     3576.0           0.0  6715.0    49.0      Altark Susent   \n",
       "3             0.0     1283.0         371.0  3329.0   193.0       Solam Susent   \n",
       "4           303.0       70.0         151.0   565.0     2.0  Willy Santantines   \n",
       "...           ...        ...           ...     ...     ...                ...   \n",
       "8688          0.0     6819.0           0.0  1643.0    74.0  Gravior Noxnuther   \n",
       "8689          0.0        0.0           0.0     0.0     0.0    Kurta Mondalley   \n",
       "8690          0.0        0.0        1872.0     1.0     0.0       Fayey Connon   \n",
       "8691          0.0     1049.0           0.0   353.0  3235.0   Celeon Hontichre   \n",
       "8692        126.0     4688.0           0.0     0.0    12.0   Propsh Hontichre   \n",
       "\n",
       "      Transported  \n",
       "0           False  \n",
       "1            True  \n",
       "2           False  \n",
       "3           False  \n",
       "4            True  \n",
       "...           ...  \n",
       "8688        False  \n",
       "8689        False  \n",
       "8690         True  \n",
       "8691        False  \n",
       "8692         True  \n",
       "\n",
       "[8693 rows x 14 columns]"
      ]
     },
     "execution_count": 117,
     "metadata": {},
     "output_type": "execute_result"
    }
   ],
   "source": [
    "train=pd.read_csv(\"train.csv\")\n",
    "train"
   ]
  },
  {
   "cell_type": "code",
   "execution_count": 118,
   "id": "50c82ce6",
   "metadata": {},
   "outputs": [
    {
     "data": {
      "text/html": [
       "<div>\n",
       "<style scoped>\n",
       "    .dataframe tbody tr th:only-of-type {\n",
       "        vertical-align: middle;\n",
       "    }\n",
       "\n",
       "    .dataframe tbody tr th {\n",
       "        vertical-align: top;\n",
       "    }\n",
       "\n",
       "    .dataframe thead th {\n",
       "        text-align: right;\n",
       "    }\n",
       "</style>\n",
       "<table border=\"1\" class=\"dataframe\">\n",
       "  <thead>\n",
       "    <tr style=\"text-align: right;\">\n",
       "      <th></th>\n",
       "      <th>PassengerId</th>\n",
       "      <th>HomePlanet</th>\n",
       "      <th>CryoSleep</th>\n",
       "      <th>Cabin</th>\n",
       "      <th>Destination</th>\n",
       "      <th>Age</th>\n",
       "      <th>VIP</th>\n",
       "      <th>RoomService</th>\n",
       "      <th>FoodCourt</th>\n",
       "      <th>ShoppingMall</th>\n",
       "      <th>Spa</th>\n",
       "      <th>VRDeck</th>\n",
       "      <th>Name</th>\n",
       "    </tr>\n",
       "  </thead>\n",
       "  <tbody>\n",
       "    <tr>\n",
       "      <th>0</th>\n",
       "      <td>0013_01</td>\n",
       "      <td>Earth</td>\n",
       "      <td>True</td>\n",
       "      <td>G/3/S</td>\n",
       "      <td>TRAPPIST-1e</td>\n",
       "      <td>27.0</td>\n",
       "      <td>False</td>\n",
       "      <td>0.0</td>\n",
       "      <td>0.0</td>\n",
       "      <td>0.0</td>\n",
       "      <td>0.0</td>\n",
       "      <td>0.0</td>\n",
       "      <td>Nelly Carsoning</td>\n",
       "    </tr>\n",
       "    <tr>\n",
       "      <th>1</th>\n",
       "      <td>0018_01</td>\n",
       "      <td>Earth</td>\n",
       "      <td>False</td>\n",
       "      <td>F/4/S</td>\n",
       "      <td>TRAPPIST-1e</td>\n",
       "      <td>19.0</td>\n",
       "      <td>False</td>\n",
       "      <td>0.0</td>\n",
       "      <td>9.0</td>\n",
       "      <td>0.0</td>\n",
       "      <td>2823.0</td>\n",
       "      <td>0.0</td>\n",
       "      <td>Lerome Peckers</td>\n",
       "    </tr>\n",
       "    <tr>\n",
       "      <th>2</th>\n",
       "      <td>0019_01</td>\n",
       "      <td>Europa</td>\n",
       "      <td>True</td>\n",
       "      <td>C/0/S</td>\n",
       "      <td>55 Cancri e</td>\n",
       "      <td>31.0</td>\n",
       "      <td>False</td>\n",
       "      <td>0.0</td>\n",
       "      <td>0.0</td>\n",
       "      <td>0.0</td>\n",
       "      <td>0.0</td>\n",
       "      <td>0.0</td>\n",
       "      <td>Sabih Unhearfus</td>\n",
       "    </tr>\n",
       "    <tr>\n",
       "      <th>3</th>\n",
       "      <td>0021_01</td>\n",
       "      <td>Europa</td>\n",
       "      <td>False</td>\n",
       "      <td>C/1/S</td>\n",
       "      <td>TRAPPIST-1e</td>\n",
       "      <td>38.0</td>\n",
       "      <td>False</td>\n",
       "      <td>0.0</td>\n",
       "      <td>6652.0</td>\n",
       "      <td>0.0</td>\n",
       "      <td>181.0</td>\n",
       "      <td>585.0</td>\n",
       "      <td>Meratz Caltilter</td>\n",
       "    </tr>\n",
       "    <tr>\n",
       "      <th>4</th>\n",
       "      <td>0023_01</td>\n",
       "      <td>Earth</td>\n",
       "      <td>False</td>\n",
       "      <td>F/5/S</td>\n",
       "      <td>TRAPPIST-1e</td>\n",
       "      <td>20.0</td>\n",
       "      <td>False</td>\n",
       "      <td>10.0</td>\n",
       "      <td>0.0</td>\n",
       "      <td>635.0</td>\n",
       "      <td>0.0</td>\n",
       "      <td>0.0</td>\n",
       "      <td>Brence Harperez</td>\n",
       "    </tr>\n",
       "    <tr>\n",
       "      <th>...</th>\n",
       "      <td>...</td>\n",
       "      <td>...</td>\n",
       "      <td>...</td>\n",
       "      <td>...</td>\n",
       "      <td>...</td>\n",
       "      <td>...</td>\n",
       "      <td>...</td>\n",
       "      <td>...</td>\n",
       "      <td>...</td>\n",
       "      <td>...</td>\n",
       "      <td>...</td>\n",
       "      <td>...</td>\n",
       "      <td>...</td>\n",
       "    </tr>\n",
       "    <tr>\n",
       "      <th>4272</th>\n",
       "      <td>9266_02</td>\n",
       "      <td>Earth</td>\n",
       "      <td>True</td>\n",
       "      <td>G/1496/S</td>\n",
       "      <td>TRAPPIST-1e</td>\n",
       "      <td>34.0</td>\n",
       "      <td>False</td>\n",
       "      <td>0.0</td>\n",
       "      <td>0.0</td>\n",
       "      <td>0.0</td>\n",
       "      <td>0.0</td>\n",
       "      <td>0.0</td>\n",
       "      <td>Jeron Peter</td>\n",
       "    </tr>\n",
       "    <tr>\n",
       "      <th>4273</th>\n",
       "      <td>9269_01</td>\n",
       "      <td>Earth</td>\n",
       "      <td>False</td>\n",
       "      <td>NaN</td>\n",
       "      <td>TRAPPIST-1e</td>\n",
       "      <td>42.0</td>\n",
       "      <td>False</td>\n",
       "      <td>0.0</td>\n",
       "      <td>847.0</td>\n",
       "      <td>17.0</td>\n",
       "      <td>10.0</td>\n",
       "      <td>144.0</td>\n",
       "      <td>Matty Scheron</td>\n",
       "    </tr>\n",
       "    <tr>\n",
       "      <th>4274</th>\n",
       "      <td>9271_01</td>\n",
       "      <td>Mars</td>\n",
       "      <td>True</td>\n",
       "      <td>D/296/P</td>\n",
       "      <td>55 Cancri e</td>\n",
       "      <td>NaN</td>\n",
       "      <td>False</td>\n",
       "      <td>0.0</td>\n",
       "      <td>0.0</td>\n",
       "      <td>0.0</td>\n",
       "      <td>0.0</td>\n",
       "      <td>0.0</td>\n",
       "      <td>Jayrin Pore</td>\n",
       "    </tr>\n",
       "    <tr>\n",
       "      <th>4275</th>\n",
       "      <td>9273_01</td>\n",
       "      <td>Europa</td>\n",
       "      <td>False</td>\n",
       "      <td>D/297/P</td>\n",
       "      <td>NaN</td>\n",
       "      <td>NaN</td>\n",
       "      <td>False</td>\n",
       "      <td>0.0</td>\n",
       "      <td>2680.0</td>\n",
       "      <td>0.0</td>\n",
       "      <td>0.0</td>\n",
       "      <td>523.0</td>\n",
       "      <td>Kitakan Conale</td>\n",
       "    </tr>\n",
       "    <tr>\n",
       "      <th>4276</th>\n",
       "      <td>9277_01</td>\n",
       "      <td>Earth</td>\n",
       "      <td>True</td>\n",
       "      <td>G/1498/S</td>\n",
       "      <td>PSO J318.5-22</td>\n",
       "      <td>43.0</td>\n",
       "      <td>False</td>\n",
       "      <td>0.0</td>\n",
       "      <td>0.0</td>\n",
       "      <td>0.0</td>\n",
       "      <td>0.0</td>\n",
       "      <td>0.0</td>\n",
       "      <td>Lilace Leonzaley</td>\n",
       "    </tr>\n",
       "  </tbody>\n",
       "</table>\n",
       "<p>4277 rows × 13 columns</p>\n",
       "</div>"
      ],
      "text/plain": [
       "     PassengerId HomePlanet CryoSleep     Cabin    Destination   Age    VIP  \\\n",
       "0        0013_01      Earth      True     G/3/S    TRAPPIST-1e  27.0  False   \n",
       "1        0018_01      Earth     False     F/4/S    TRAPPIST-1e  19.0  False   \n",
       "2        0019_01     Europa      True     C/0/S    55 Cancri e  31.0  False   \n",
       "3        0021_01     Europa     False     C/1/S    TRAPPIST-1e  38.0  False   \n",
       "4        0023_01      Earth     False     F/5/S    TRAPPIST-1e  20.0  False   \n",
       "...          ...        ...       ...       ...            ...   ...    ...   \n",
       "4272     9266_02      Earth      True  G/1496/S    TRAPPIST-1e  34.0  False   \n",
       "4273     9269_01      Earth     False       NaN    TRAPPIST-1e  42.0  False   \n",
       "4274     9271_01       Mars      True   D/296/P    55 Cancri e   NaN  False   \n",
       "4275     9273_01     Europa     False   D/297/P            NaN   NaN  False   \n",
       "4276     9277_01      Earth      True  G/1498/S  PSO J318.5-22  43.0  False   \n",
       "\n",
       "      RoomService  FoodCourt  ShoppingMall     Spa  VRDeck              Name  \n",
       "0             0.0        0.0           0.0     0.0     0.0   Nelly Carsoning  \n",
       "1             0.0        9.0           0.0  2823.0     0.0    Lerome Peckers  \n",
       "2             0.0        0.0           0.0     0.0     0.0   Sabih Unhearfus  \n",
       "3             0.0     6652.0           0.0   181.0   585.0  Meratz Caltilter  \n",
       "4            10.0        0.0         635.0     0.0     0.0   Brence Harperez  \n",
       "...           ...        ...           ...     ...     ...               ...  \n",
       "4272          0.0        0.0           0.0     0.0     0.0       Jeron Peter  \n",
       "4273          0.0      847.0          17.0    10.0   144.0     Matty Scheron  \n",
       "4274          0.0        0.0           0.0     0.0     0.0       Jayrin Pore  \n",
       "4275          0.0     2680.0           0.0     0.0   523.0    Kitakan Conale  \n",
       "4276          0.0        0.0           0.0     0.0     0.0  Lilace Leonzaley  \n",
       "\n",
       "[4277 rows x 13 columns]"
      ]
     },
     "execution_count": 118,
     "metadata": {},
     "output_type": "execute_result"
    }
   ],
   "source": [
    "test=pd.read_csv(\"test.csv\")\n",
    "test"
   ]
  },
  {
   "cell_type": "code",
   "execution_count": 119,
   "id": "55dbff6e",
   "metadata": {},
   "outputs": [
    {
     "data": {
      "text/html": [
       "<div>\n",
       "<style scoped>\n",
       "    .dataframe tbody tr th:only-of-type {\n",
       "        vertical-align: middle;\n",
       "    }\n",
       "\n",
       "    .dataframe tbody tr th {\n",
       "        vertical-align: top;\n",
       "    }\n",
       "\n",
       "    .dataframe thead th {\n",
       "        text-align: right;\n",
       "    }\n",
       "</style>\n",
       "<table border=\"1\" class=\"dataframe\">\n",
       "  <thead>\n",
       "    <tr style=\"text-align: right;\">\n",
       "      <th></th>\n",
       "      <th>count</th>\n",
       "      <th>mean</th>\n",
       "      <th>std</th>\n",
       "      <th>min</th>\n",
       "      <th>25%</th>\n",
       "      <th>50%</th>\n",
       "      <th>75%</th>\n",
       "      <th>max</th>\n",
       "    </tr>\n",
       "  </thead>\n",
       "  <tbody>\n",
       "    <tr>\n",
       "      <th>Age</th>\n",
       "      <td>8514.0</td>\n",
       "      <td>28.827930</td>\n",
       "      <td>14.489021</td>\n",
       "      <td>0.0</td>\n",
       "      <td>19.0</td>\n",
       "      <td>27.0</td>\n",
       "      <td>38.0</td>\n",
       "      <td>79.0</td>\n",
       "    </tr>\n",
       "    <tr>\n",
       "      <th>RoomService</th>\n",
       "      <td>8512.0</td>\n",
       "      <td>224.687617</td>\n",
       "      <td>666.717663</td>\n",
       "      <td>0.0</td>\n",
       "      <td>0.0</td>\n",
       "      <td>0.0</td>\n",
       "      <td>47.0</td>\n",
       "      <td>14327.0</td>\n",
       "    </tr>\n",
       "    <tr>\n",
       "      <th>FoodCourt</th>\n",
       "      <td>8510.0</td>\n",
       "      <td>458.077203</td>\n",
       "      <td>1611.489240</td>\n",
       "      <td>0.0</td>\n",
       "      <td>0.0</td>\n",
       "      <td>0.0</td>\n",
       "      <td>76.0</td>\n",
       "      <td>29813.0</td>\n",
       "    </tr>\n",
       "    <tr>\n",
       "      <th>ShoppingMall</th>\n",
       "      <td>8485.0</td>\n",
       "      <td>173.729169</td>\n",
       "      <td>604.696458</td>\n",
       "      <td>0.0</td>\n",
       "      <td>0.0</td>\n",
       "      <td>0.0</td>\n",
       "      <td>27.0</td>\n",
       "      <td>23492.0</td>\n",
       "    </tr>\n",
       "    <tr>\n",
       "      <th>Spa</th>\n",
       "      <td>8510.0</td>\n",
       "      <td>311.138778</td>\n",
       "      <td>1136.705535</td>\n",
       "      <td>0.0</td>\n",
       "      <td>0.0</td>\n",
       "      <td>0.0</td>\n",
       "      <td>59.0</td>\n",
       "      <td>22408.0</td>\n",
       "    </tr>\n",
       "    <tr>\n",
       "      <th>VRDeck</th>\n",
       "      <td>8505.0</td>\n",
       "      <td>304.854791</td>\n",
       "      <td>1145.717189</td>\n",
       "      <td>0.0</td>\n",
       "      <td>0.0</td>\n",
       "      <td>0.0</td>\n",
       "      <td>46.0</td>\n",
       "      <td>24133.0</td>\n",
       "    </tr>\n",
       "  </tbody>\n",
       "</table>\n",
       "</div>"
      ],
      "text/plain": [
       "               count        mean          std  min   25%   50%   75%      max\n",
       "Age           8514.0   28.827930    14.489021  0.0  19.0  27.0  38.0     79.0\n",
       "RoomService   8512.0  224.687617   666.717663  0.0   0.0   0.0  47.0  14327.0\n",
       "FoodCourt     8510.0  458.077203  1611.489240  0.0   0.0   0.0  76.0  29813.0\n",
       "ShoppingMall  8485.0  173.729169   604.696458  0.0   0.0   0.0  27.0  23492.0\n",
       "Spa           8510.0  311.138778  1136.705535  0.0   0.0   0.0  59.0  22408.0\n",
       "VRDeck        8505.0  304.854791  1145.717189  0.0   0.0   0.0  46.0  24133.0"
      ]
     },
     "execution_count": 119,
     "metadata": {},
     "output_type": "execute_result"
    }
   ],
   "source": [
    "train.describe().T"
   ]
  },
  {
   "cell_type": "code",
   "execution_count": 120,
   "id": "67e76047",
   "metadata": {},
   "outputs": [
    {
     "name": "stdout",
     "output_type": "stream",
     "text": [
      "Shape of the dataframe (8693, 14)\n",
      "duplicated Value count 0\n"
     ]
    },
    {
     "data": {
      "text/html": [
       "<div>\n",
       "<style scoped>\n",
       "    .dataframe tbody tr th:only-of-type {\n",
       "        vertical-align: middle;\n",
       "    }\n",
       "\n",
       "    .dataframe tbody tr th {\n",
       "        vertical-align: top;\n",
       "    }\n",
       "\n",
       "    .dataframe thead th {\n",
       "        text-align: right;\n",
       "    }\n",
       "</style>\n",
       "<table border=\"1\" class=\"dataframe\">\n",
       "  <thead>\n",
       "    <tr style=\"text-align: right;\">\n",
       "      <th></th>\n",
       "      <th>Unique</th>\n",
       "      <th>Null</th>\n",
       "      <th>NullPercent</th>\n",
       "      <th>Type</th>\n",
       "    </tr>\n",
       "  </thead>\n",
       "  <tbody>\n",
       "    <tr>\n",
       "      <th>PassengerId</th>\n",
       "      <td>8693</td>\n",
       "      <td>0</td>\n",
       "      <td>0.000000</td>\n",
       "      <td>object</td>\n",
       "    </tr>\n",
       "    <tr>\n",
       "      <th>HomePlanet</th>\n",
       "      <td>3</td>\n",
       "      <td>201</td>\n",
       "      <td>0.023122</td>\n",
       "      <td>object</td>\n",
       "    </tr>\n",
       "    <tr>\n",
       "      <th>CryoSleep</th>\n",
       "      <td>2</td>\n",
       "      <td>217</td>\n",
       "      <td>0.024963</td>\n",
       "      <td>object</td>\n",
       "    </tr>\n",
       "    <tr>\n",
       "      <th>Cabin</th>\n",
       "      <td>6560</td>\n",
       "      <td>199</td>\n",
       "      <td>0.022892</td>\n",
       "      <td>object</td>\n",
       "    </tr>\n",
       "    <tr>\n",
       "      <th>Destination</th>\n",
       "      <td>3</td>\n",
       "      <td>182</td>\n",
       "      <td>0.020936</td>\n",
       "      <td>object</td>\n",
       "    </tr>\n",
       "    <tr>\n",
       "      <th>Age</th>\n",
       "      <td>80</td>\n",
       "      <td>179</td>\n",
       "      <td>0.020591</td>\n",
       "      <td>float64</td>\n",
       "    </tr>\n",
       "    <tr>\n",
       "      <th>VIP</th>\n",
       "      <td>2</td>\n",
       "      <td>203</td>\n",
       "      <td>0.023352</td>\n",
       "      <td>object</td>\n",
       "    </tr>\n",
       "    <tr>\n",
       "      <th>RoomService</th>\n",
       "      <td>1273</td>\n",
       "      <td>181</td>\n",
       "      <td>0.020821</td>\n",
       "      <td>float64</td>\n",
       "    </tr>\n",
       "    <tr>\n",
       "      <th>FoodCourt</th>\n",
       "      <td>1507</td>\n",
       "      <td>183</td>\n",
       "      <td>0.021051</td>\n",
       "      <td>float64</td>\n",
       "    </tr>\n",
       "    <tr>\n",
       "      <th>ShoppingMall</th>\n",
       "      <td>1115</td>\n",
       "      <td>208</td>\n",
       "      <td>0.023927</td>\n",
       "      <td>float64</td>\n",
       "    </tr>\n",
       "    <tr>\n",
       "      <th>Spa</th>\n",
       "      <td>1327</td>\n",
       "      <td>183</td>\n",
       "      <td>0.021051</td>\n",
       "      <td>float64</td>\n",
       "    </tr>\n",
       "    <tr>\n",
       "      <th>VRDeck</th>\n",
       "      <td>1306</td>\n",
       "      <td>188</td>\n",
       "      <td>0.021627</td>\n",
       "      <td>float64</td>\n",
       "    </tr>\n",
       "    <tr>\n",
       "      <th>Name</th>\n",
       "      <td>8473</td>\n",
       "      <td>200</td>\n",
       "      <td>0.023007</td>\n",
       "      <td>object</td>\n",
       "    </tr>\n",
       "    <tr>\n",
       "      <th>Transported</th>\n",
       "      <td>2</td>\n",
       "      <td>0</td>\n",
       "      <td>0.000000</td>\n",
       "      <td>bool</td>\n",
       "    </tr>\n",
       "  </tbody>\n",
       "</table>\n",
       "</div>"
      ],
      "text/plain": [
       "              Unique  Null  NullPercent     Type\n",
       "PassengerId     8693     0     0.000000   object\n",
       "HomePlanet         3   201     0.023122   object\n",
       "CryoSleep          2   217     0.024963   object\n",
       "Cabin           6560   199     0.022892   object\n",
       "Destination        3   182     0.020936   object\n",
       "Age               80   179     0.020591  float64\n",
       "VIP                2   203     0.023352   object\n",
       "RoomService     1273   181     0.020821  float64\n",
       "FoodCourt       1507   183     0.021051  float64\n",
       "ShoppingMall    1115   208     0.023927  float64\n",
       "Spa             1327   183     0.021051  float64\n",
       "VRDeck          1306   188     0.021627  float64\n",
       "Name            8473   200     0.023007   object\n",
       "Transported        2     0     0.000000     bool"
      ]
     },
     "metadata": {},
     "output_type": "display_data"
    }
   ],
   "source": [
    "print(\"Shape of the dataframe\",train.shape)\n",
    "print(\"duplicated Value count\",train.duplicated().sum())\n",
    "analys = pd.DataFrame({\n",
    "    'Unique':train.nunique(),\n",
    "    'Null':train.isnull().sum(),\n",
    "    \n",
    "    'NullPercent':train.isna().sum() / len(train),\n",
    "    'Type':train.dtypes.values\n",
    "    \n",
    "})\n",
    "display(analys)"
   ]
  },
  {
   "cell_type": "code",
   "execution_count": 121,
   "id": "8ff91c51",
   "metadata": {},
   "outputs": [
    {
     "name": "stdout",
     "output_type": "stream",
     "text": [
      "Shape of the dataframe (4277, 13)\n",
      "duplicated Value count 0\n"
     ]
    },
    {
     "data": {
      "text/html": [
       "<div>\n",
       "<style scoped>\n",
       "    .dataframe tbody tr th:only-of-type {\n",
       "        vertical-align: middle;\n",
       "    }\n",
       "\n",
       "    .dataframe tbody tr th {\n",
       "        vertical-align: top;\n",
       "    }\n",
       "\n",
       "    .dataframe thead th {\n",
       "        text-align: right;\n",
       "    }\n",
       "</style>\n",
       "<table border=\"1\" class=\"dataframe\">\n",
       "  <thead>\n",
       "    <tr style=\"text-align: right;\">\n",
       "      <th></th>\n",
       "      <th>Unique</th>\n",
       "      <th>Null</th>\n",
       "      <th>NullPercent</th>\n",
       "      <th>Type</th>\n",
       "    </tr>\n",
       "  </thead>\n",
       "  <tbody>\n",
       "    <tr>\n",
       "      <th>PassengerId</th>\n",
       "      <td>4277</td>\n",
       "      <td>0</td>\n",
       "      <td>0.000000</td>\n",
       "      <td>object</td>\n",
       "    </tr>\n",
       "    <tr>\n",
       "      <th>HomePlanet</th>\n",
       "      <td>3</td>\n",
       "      <td>87</td>\n",
       "      <td>0.020341</td>\n",
       "      <td>object</td>\n",
       "    </tr>\n",
       "    <tr>\n",
       "      <th>CryoSleep</th>\n",
       "      <td>2</td>\n",
       "      <td>93</td>\n",
       "      <td>0.021744</td>\n",
       "      <td>object</td>\n",
       "    </tr>\n",
       "    <tr>\n",
       "      <th>Cabin</th>\n",
       "      <td>3265</td>\n",
       "      <td>100</td>\n",
       "      <td>0.023381</td>\n",
       "      <td>object</td>\n",
       "    </tr>\n",
       "    <tr>\n",
       "      <th>Destination</th>\n",
       "      <td>3</td>\n",
       "      <td>92</td>\n",
       "      <td>0.021510</td>\n",
       "      <td>object</td>\n",
       "    </tr>\n",
       "    <tr>\n",
       "      <th>Age</th>\n",
       "      <td>79</td>\n",
       "      <td>91</td>\n",
       "      <td>0.021277</td>\n",
       "      <td>float64</td>\n",
       "    </tr>\n",
       "    <tr>\n",
       "      <th>VIP</th>\n",
       "      <td>2</td>\n",
       "      <td>93</td>\n",
       "      <td>0.021744</td>\n",
       "      <td>object</td>\n",
       "    </tr>\n",
       "    <tr>\n",
       "      <th>RoomService</th>\n",
       "      <td>842</td>\n",
       "      <td>82</td>\n",
       "      <td>0.019172</td>\n",
       "      <td>float64</td>\n",
       "    </tr>\n",
       "    <tr>\n",
       "      <th>FoodCourt</th>\n",
       "      <td>902</td>\n",
       "      <td>106</td>\n",
       "      <td>0.024784</td>\n",
       "      <td>float64</td>\n",
       "    </tr>\n",
       "    <tr>\n",
       "      <th>ShoppingMall</th>\n",
       "      <td>715</td>\n",
       "      <td>98</td>\n",
       "      <td>0.022913</td>\n",
       "      <td>float64</td>\n",
       "    </tr>\n",
       "    <tr>\n",
       "      <th>Spa</th>\n",
       "      <td>833</td>\n",
       "      <td>101</td>\n",
       "      <td>0.023615</td>\n",
       "      <td>float64</td>\n",
       "    </tr>\n",
       "    <tr>\n",
       "      <th>VRDeck</th>\n",
       "      <td>796</td>\n",
       "      <td>80</td>\n",
       "      <td>0.018705</td>\n",
       "      <td>float64</td>\n",
       "    </tr>\n",
       "    <tr>\n",
       "      <th>Name</th>\n",
       "      <td>4176</td>\n",
       "      <td>94</td>\n",
       "      <td>0.021978</td>\n",
       "      <td>object</td>\n",
       "    </tr>\n",
       "  </tbody>\n",
       "</table>\n",
       "</div>"
      ],
      "text/plain": [
       "              Unique  Null  NullPercent     Type\n",
       "PassengerId     4277     0     0.000000   object\n",
       "HomePlanet         3    87     0.020341   object\n",
       "CryoSleep          2    93     0.021744   object\n",
       "Cabin           3265   100     0.023381   object\n",
       "Destination        3    92     0.021510   object\n",
       "Age               79    91     0.021277  float64\n",
       "VIP                2    93     0.021744   object\n",
       "RoomService      842    82     0.019172  float64\n",
       "FoodCourt        902   106     0.024784  float64\n",
       "ShoppingMall     715    98     0.022913  float64\n",
       "Spa              833   101     0.023615  float64\n",
       "VRDeck           796    80     0.018705  float64\n",
       "Name            4176    94     0.021978   object"
      ]
     },
     "metadata": {},
     "output_type": "display_data"
    }
   ],
   "source": [
    "print(\"Shape of the dataframe\",test.shape)\n",
    "print(\"duplicated Value count\",test.duplicated().sum())\n",
    "analys = pd.DataFrame({\n",
    "    'Unique':test.nunique(),\n",
    "    'Null':test.isnull().sum(),\n",
    "    \n",
    "    'NullPercent':test.isna().sum() / len(test),\n",
    "    'Type':test.dtypes.values\n",
    "    \n",
    "})\n",
    "display(analys)"
   ]
  },
  {
   "cell_type": "markdown",
   "id": "b792f490",
   "metadata": {},
   "source": [
    "\n",
    "<h2 style=\"background-color:DodgerBlue;text-align: center\">NaN validation</h2>"
   ]
  },
  {
   "cell_type": "code",
   "execution_count": 122,
   "id": "e98b14c5",
   "metadata": {},
   "outputs": [],
   "source": [
    "train.replace('', np.NaN, inplace=True)\n",
    "\n"
   ]
  },
  {
   "cell_type": "code",
   "execution_count": 123,
   "id": "889128f4",
   "metadata": {},
   "outputs": [],
   "source": [
    "test.replace('', np.NaN, inplace=True)"
   ]
  },
  {
   "cell_type": "code",
   "execution_count": 124,
   "id": "bd8c01e6",
   "metadata": {},
   "outputs": [
    {
     "name": "stdout",
     "output_type": "stream",
     "text": [
      "PassengerId :\n",
      " 0001_01    1\n",
      "6136_01    1\n",
      "6141_01    1\n",
      "6139_06    1\n",
      "6139_05    1\n",
      "          ..\n",
      "3126_01    1\n",
      "3124_03    1\n",
      "3124_02    1\n",
      "3124_01    1\n",
      "9280_02    1\n",
      "Name: PassengerId, Length: 8693, dtype: int64\n",
      "--------------------\n",
      "HomePlanet :\n",
      " Earth     4602\n",
      "Europa    2131\n",
      "Mars      1759\n",
      "Name: HomePlanet, dtype: int64\n",
      "--------------------\n",
      "CryoSleep :\n",
      " False    5439\n",
      "True     3037\n",
      "Name: CryoSleep, dtype: int64\n",
      "--------------------\n",
      "Cabin :\n",
      " G/734/S     8\n",
      "G/109/P     7\n",
      "B/201/P     7\n",
      "G/1368/P    7\n",
      "G/981/S     7\n",
      "           ..\n",
      "G/556/P     1\n",
      "E/231/S     1\n",
      "G/545/S     1\n",
      "G/543/S     1\n",
      "F/947/P     1\n",
      "Name: Cabin, Length: 6560, dtype: int64\n",
      "--------------------\n",
      "Destination :\n",
      " TRAPPIST-1e      5915\n",
      "55 Cancri e      1800\n",
      "PSO J318.5-22     796\n",
      "Name: Destination, dtype: int64\n",
      "--------------------\n",
      "Age :\n",
      " 24.0    324\n",
      "18.0    320\n",
      "21.0    311\n",
      "19.0    293\n",
      "23.0    292\n",
      "       ... \n",
      "72.0      4\n",
      "78.0      3\n",
      "79.0      3\n",
      "76.0      2\n",
      "77.0      2\n",
      "Name: Age, Length: 80, dtype: int64\n",
      "--------------------\n",
      "VIP :\n",
      " False    8291\n",
      "True      199\n",
      "Name: VIP, dtype: int64\n",
      "--------------------\n",
      "RoomService :\n",
      " 0.0       5577\n",
      "1.0        117\n",
      "2.0         79\n",
      "3.0         61\n",
      "4.0         47\n",
      "          ... \n",
      "1612.0       1\n",
      "2598.0       1\n",
      "632.0        1\n",
      "378.0        1\n",
      "745.0        1\n",
      "Name: RoomService, Length: 1273, dtype: int64\n",
      "--------------------\n",
      "FoodCourt :\n",
      " 0.0       5456\n",
      "1.0        116\n",
      "2.0         75\n",
      "3.0         53\n",
      "4.0         53\n",
      "          ... \n",
      "3846.0       1\n",
      "5193.0       1\n",
      "312.0        1\n",
      "827.0        1\n",
      "4688.0       1\n",
      "Name: FoodCourt, Length: 1507, dtype: int64\n",
      "--------------------\n",
      "ShoppingMall :\n",
      " 0.0       5587\n",
      "1.0        153\n",
      "2.0         80\n",
      "3.0         59\n",
      "4.0         45\n",
      "          ... \n",
      "3627.0       1\n",
      "2074.0       1\n",
      "871.0        1\n",
      "742.0        1\n",
      "1872.0       1\n",
      "Name: ShoppingMall, Length: 1115, dtype: int64\n",
      "--------------------\n",
      "Spa :\n",
      " 0.0       5324\n",
      "1.0        146\n",
      "2.0        105\n",
      "5.0         53\n",
      "3.0         53\n",
      "          ... \n",
      "273.0        1\n",
      "2581.0       1\n",
      "2948.0       1\n",
      "3778.0       1\n",
      "1643.0       1\n",
      "Name: Spa, Length: 1327, dtype: int64\n",
      "--------------------\n",
      "VRDeck :\n",
      " 0.0       5495\n",
      "1.0        139\n",
      "2.0         70\n",
      "3.0         56\n",
      "5.0         51\n",
      "          ... \n",
      "408.0        1\n",
      "876.0        1\n",
      "2891.0       1\n",
      "2102.0       1\n",
      "3235.0       1\n",
      "Name: VRDeck, Length: 1306, dtype: int64\n",
      "--------------------\n",
      "Name :\n",
      " Gollux Reedall        2\n",
      "Elaney Webstephrey    2\n",
      "Grake Porki           2\n",
      "Sus Coolez            2\n",
      "Apix Wala             2\n",
      "                     ..\n",
      "Jamela Griffy         1\n",
      "Hardy Griffy          1\n",
      "Salley Mckinn         1\n",
      "Mall Frasp            1\n",
      "Propsh Hontichre      1\n",
      "Name: Name, Length: 8473, dtype: int64\n",
      "--------------------\n",
      "Transported :\n",
      " True     4378\n",
      "False    4315\n",
      "Name: Transported, dtype: int64\n",
      "--------------------\n"
     ]
    }
   ],
   "source": [
    "for i in train.columns:\n",
    "    print(i,\":\\n\",train[i].value_counts())\n",
    "    print(\"-\"*20)\n",
    "    "
   ]
  },
  {
   "cell_type": "markdown",
   "id": "924edd3a",
   "metadata": {},
   "source": [
    "### Homeplanet "
   ]
  },
  {
   "cell_type": "markdown",
   "id": "58251678",
   "metadata": {},
   "source": [
    "lets assign all blanks to Earth since the Vessel started there."
   ]
  },
  {
   "cell_type": "code",
   "execution_count": 125,
   "id": "5db6923e",
   "metadata": {},
   "outputs": [
    {
     "data": {
      "text/plain": [
       "201"
      ]
     },
     "execution_count": 125,
     "metadata": {},
     "output_type": "execute_result"
    }
   ],
   "source": [
    "train[\"HomePlanet\"].isnull().sum()"
   ]
  },
  {
   "cell_type": "code",
   "execution_count": 126,
   "id": "775f57f0",
   "metadata": {},
   "outputs": [],
   "source": [
    "train[\"HomePlanet\"]=train[\"HomePlanet\"].fillna(\"Earth\")"
   ]
  },
  {
   "cell_type": "code",
   "execution_count": 127,
   "id": "4e9f3155",
   "metadata": {},
   "outputs": [
    {
     "data": {
      "text/plain": [
       "Earth     4803\n",
       "Europa    2131\n",
       "Mars      1759\n",
       "Name: HomePlanet, dtype: int64"
      ]
     },
     "execution_count": 127,
     "metadata": {},
     "output_type": "execute_result"
    }
   ],
   "source": [
    "train[\"HomePlanet\"].value_counts()"
   ]
  },
  {
   "cell_type": "code",
   "execution_count": 128,
   "id": "f122ee0f",
   "metadata": {},
   "outputs": [],
   "source": [
    "test[\"HomePlanet\"]=test[\"HomePlanet\"].fillna(\"Earth\")"
   ]
  },
  {
   "cell_type": "code",
   "execution_count": 129,
   "id": "a80b9357",
   "metadata": {},
   "outputs": [
    {
     "data": {
      "text/plain": [
       "Earth     2350\n",
       "Europa    1002\n",
       "Mars       925\n",
       "Name: HomePlanet, dtype: int64"
      ]
     },
     "execution_count": 129,
     "metadata": {},
     "output_type": "execute_result"
    }
   ],
   "source": [
    "test[\"HomePlanet\"].value_counts()"
   ]
  },
  {
   "cell_type": "markdown",
   "id": "e7d0e9e1",
   "metadata": {},
   "source": [
    "### Destination"
   ]
  },
  {
   "cell_type": "markdown",
   "id": "dc076c05",
   "metadata": {},
   "source": [
    "Let's assume final destination is TRAPPIST-1e and assign all nan value to final destination."
   ]
  },
  {
   "cell_type": "code",
   "execution_count": 130,
   "id": "bcc8ab91",
   "metadata": {},
   "outputs": [],
   "source": [
    "train[\"Destination\"]=train[\"Destination\"].fillna(\"TRAPPIST-1e\")"
   ]
  },
  {
   "cell_type": "code",
   "execution_count": 131,
   "id": "e4aa2658",
   "metadata": {},
   "outputs": [
    {
     "data": {
      "text/plain": [
       "0"
      ]
     },
     "execution_count": 131,
     "metadata": {},
     "output_type": "execute_result"
    }
   ],
   "source": [
    "train[\"Destination\"].isnull().sum()"
   ]
  },
  {
   "cell_type": "code",
   "execution_count": 132,
   "id": "75326ae8",
   "metadata": {},
   "outputs": [],
   "source": [
    "test[\"Destination\"]=test[\"Destination\"].fillna(\"TRAPPIST-1e\")"
   ]
  },
  {
   "cell_type": "code",
   "execution_count": 133,
   "id": "e2d4b351",
   "metadata": {},
   "outputs": [
    {
     "data": {
      "text/plain": [
       "0"
      ]
     },
     "execution_count": 133,
     "metadata": {},
     "output_type": "execute_result"
    }
   ],
   "source": [
    "test[\"Destination\"].isnull().sum()"
   ]
  },
  {
   "cell_type": "markdown",
   "id": "701d9ab8",
   "metadata": {},
   "source": [
    "### CryoSleep"
   ]
  },
  {
   "cell_type": "code",
   "execution_count": 134,
   "id": "14994003",
   "metadata": {},
   "outputs": [],
   "source": [
    "train[\"CryoSleep\"]=train[\"CryoSleep\"].fillna(False)"
   ]
  },
  {
   "cell_type": "code",
   "execution_count": 135,
   "id": "38bcd206",
   "metadata": {},
   "outputs": [
    {
     "data": {
      "text/plain": [
       "0"
      ]
     },
     "execution_count": 135,
     "metadata": {},
     "output_type": "execute_result"
    }
   ],
   "source": [
    "train[\"CryoSleep\"].isnull().sum()"
   ]
  },
  {
   "cell_type": "code",
   "execution_count": 136,
   "id": "547b5173",
   "metadata": {},
   "outputs": [],
   "source": [
    "test[\"CryoSleep\"]=test[\"CryoSleep\"].fillna(False)"
   ]
  },
  {
   "cell_type": "code",
   "execution_count": 137,
   "id": "28252941",
   "metadata": {},
   "outputs": [
    {
     "data": {
      "text/plain": [
       "0"
      ]
     },
     "execution_count": 137,
     "metadata": {},
     "output_type": "execute_result"
    }
   ],
   "source": [
    "test[\"CryoSleep\"].isnull().sum()"
   ]
  },
  {
   "cell_type": "markdown",
   "id": "881062dc",
   "metadata": {},
   "source": [
    "### Name"
   ]
  },
  {
   "cell_type": "code",
   "execution_count": 138,
   "id": "ffcd93e4",
   "metadata": {},
   "outputs": [],
   "source": [
    "train[\"Name\"]=train[\"Name\"].fillna(\"Unkown Passenger\")"
   ]
  },
  {
   "cell_type": "code",
   "execution_count": 139,
   "id": "e835e1a1",
   "metadata": {},
   "outputs": [
    {
     "data": {
      "text/plain": [
       "0"
      ]
     },
     "execution_count": 139,
     "metadata": {},
     "output_type": "execute_result"
    }
   ],
   "source": [
    "train[\"Name\"].isnull().sum()"
   ]
  },
  {
   "cell_type": "code",
   "execution_count": 140,
   "id": "bbbedc7e",
   "metadata": {},
   "outputs": [],
   "source": [
    "test[\"Name\"]=test[\"Name\"].fillna(\"Unkown Passenger\")"
   ]
  },
  {
   "cell_type": "code",
   "execution_count": 141,
   "id": "b43a3054",
   "metadata": {},
   "outputs": [
    {
     "data": {
      "text/plain": [
       "0"
      ]
     },
     "execution_count": 141,
     "metadata": {},
     "output_type": "execute_result"
    }
   ],
   "source": [
    "test[\"Name\"].isnull().sum()"
   ]
  },
  {
   "cell_type": "markdown",
   "id": "c02b9cb5",
   "metadata": {},
   "source": [
    "### VIP"
   ]
  },
  {
   "cell_type": "code",
   "execution_count": 142,
   "id": "08aca6df",
   "metadata": {},
   "outputs": [],
   "source": [
    "train[\"VIP\"]=train[\"VIP\"].fillna(False)"
   ]
  },
  {
   "cell_type": "code",
   "execution_count": 143,
   "id": "6c37b26f",
   "metadata": {},
   "outputs": [
    {
     "data": {
      "text/plain": [
       "0"
      ]
     },
     "execution_count": 143,
     "metadata": {},
     "output_type": "execute_result"
    }
   ],
   "source": [
    "train[\"VIP\"].isnull().sum()"
   ]
  },
  {
   "cell_type": "code",
   "execution_count": 144,
   "id": "786117b7",
   "metadata": {},
   "outputs": [],
   "source": [
    "test[\"VIP\"]=test[\"VIP\"].fillna(False)"
   ]
  },
  {
   "cell_type": "code",
   "execution_count": 145,
   "id": "9b741b80",
   "metadata": {},
   "outputs": [
    {
     "data": {
      "text/plain": [
       "0"
      ]
     },
     "execution_count": 145,
     "metadata": {},
     "output_type": "execute_result"
    }
   ],
   "source": [
    "test[\"VIP\"].isnull().sum()"
   ]
  },
  {
   "cell_type": "markdown",
   "id": "23e6368f",
   "metadata": {},
   "source": [
    "## Age"
   ]
  },
  {
   "cell_type": "code",
   "execution_count": 146,
   "id": "079252bd",
   "metadata": {},
   "outputs": [],
   "source": [
    "train[\"Age\"]=train[\"Age\"].fillna(int(train[\"Age\"].mean()))"
   ]
  },
  {
   "cell_type": "code",
   "execution_count": 147,
   "id": "12d8a4b2",
   "metadata": {},
   "outputs": [
    {
     "data": {
      "text/plain": [
       "0"
      ]
     },
     "execution_count": 147,
     "metadata": {},
     "output_type": "execute_result"
    }
   ],
   "source": [
    "train[\"Age\"].isnull().sum()"
   ]
  },
  {
   "cell_type": "code",
   "execution_count": 148,
   "id": "1cc1972f",
   "metadata": {},
   "outputs": [],
   "source": [
    "test[\"Age\"]=train[\"Age\"].fillna(int(train[\"Age\"].mean()))"
   ]
  },
  {
   "cell_type": "markdown",
   "id": "ea2818f1",
   "metadata": {},
   "source": [
    "\n",
    "<h1 style=\"background-color:yellow;text-align: center\">3. Exploratory Data Analysis & Data Visualisation</h1>"
   ]
  },
  {
   "cell_type": "code",
   "execution_count": 149,
   "id": "a1047db4",
   "metadata": {},
   "outputs": [],
   "source": [
    "columns=[\"HomePlanet\",\"CryoSleep\",\"Destination\",\"Age\"]"
   ]
  },
  {
   "cell_type": "code",
   "execution_count": 150,
   "id": "1c4f3bf2",
   "metadata": {},
   "outputs": [
    {
     "data": {
      "image/png": "[encoded data removed]",
      "text/plain": [
       "<Figure size 1296x1440 with 3 Axes>"
      ]
     },
     "metadata": {
      "needs_background": "light"
     },
     "output_type": "display_data"
    }
   ],
   "source": [
    "plot = 1\n",
    "\n",
    "plt.figure(figsize=(18,20))\n",
    "for i in columns: \n",
    "    try:\n",
    "        plt.subplot(3,1,plot)\n",
    "        ax = sns.histplot(data = train , x = i , kde = True, palette=\"bright\",color=\"tomato\" )\n",
    "        plt.xlabel(i)\n",
    "        plot+=1\n",
    "        for i in ax.containers:     #to set a label on top of the bars.\n",
    "            ax.bar_label(i,)\n",
    "    except:\n",
    "        train.dtypes.values== bool\n",
    "    "
   ]
  },
  {
   "cell_type": "markdown",
   "id": "d6f3f101",
   "metadata": {},
   "source": [
    "### Finding  pattern in Tranported travelers"
   ]
  },
  {
   "cell_type": "markdown",
   "id": "779b98a9",
   "metadata": {},
   "source": [
    "<h2 style=\"background-color:DodgerBlue;text-align: center\">I. Age</h2>"
   ]
  },
  {
   "cell_type": "code",
   "execution_count": 151,
   "id": "7fba5651",
   "metadata": {},
   "outputs": [
    {
     "data": {
      "text/html": [
       "<div>\n",
       "<style scoped>\n",
       "    .dataframe tbody tr th:only-of-type {\n",
       "        vertical-align: middle;\n",
       "    }\n",
       "\n",
       "    .dataframe tbody tr th {\n",
       "        vertical-align: top;\n",
       "    }\n",
       "\n",
       "    .dataframe thead th {\n",
       "        text-align: right;\n",
       "    }\n",
       "</style>\n",
       "<table border=\"1\" class=\"dataframe\">\n",
       "  <thead>\n",
       "    <tr style=\"text-align: right;\">\n",
       "      <th></th>\n",
       "      <th>Age</th>\n",
       "    </tr>\n",
       "    <tr>\n",
       "      <th>Transported</th>\n",
       "      <th></th>\n",
       "    </tr>\n",
       "  </thead>\n",
       "  <tbody>\n",
       "    <tr>\n",
       "      <th>False</th>\n",
       "      <td>29.883198</td>\n",
       "    </tr>\n",
       "    <tr>\n",
       "      <th>True</th>\n",
       "      <td>27.753997</td>\n",
       "    </tr>\n",
       "  </tbody>\n",
       "</table>\n",
       "</div>"
      ],
      "text/plain": [
       "                   Age\n",
       "Transported           \n",
       "False        29.883198\n",
       "True         27.753997"
      ]
     },
     "execution_count": 151,
     "metadata": {},
     "output_type": "execute_result"
    }
   ],
   "source": [
    "\n",
    "age=train.groupby(\"Transported\").agg({\"Age\":\"mean\"})\n",
    "\n",
    "age"
   ]
  },
  {
   "cell_type": "markdown",
   "id": "87df49f7",
   "metadata": {},
   "source": [
    "there is no particular difference in age. Let's view claerly in subseqent analysis."
   ]
  },
  {
   "cell_type": "markdown",
   "id": "2d7c0dec",
   "metadata": {},
   "source": [
    "<h2 style=\"background-color:DodgerBlue;text-align: center\">II. Cryosleep</h2>"
   ]
  },
  {
   "cell_type": "code",
   "execution_count": 152,
   "id": "76e53317",
   "metadata": {},
   "outputs": [
    {
     "data": {
      "text/plain": [
       "[Text(0, 0, '3761'), Text(0, 0, '554')]"
      ]
     },
     "execution_count": 152,
     "metadata": {},
     "output_type": "execute_result"
    },
    {
     "data": {
      "image/png": "[encoded data removed]",
      "text/plain": [
       "<Figure size 432x288 with 1 Axes>"
      ]
     },
     "metadata": {
      "needs_background": "light"
     },
     "output_type": "display_data"
    }
   ],
   "source": [
    "Cryosleep=train.groupby([\"CryoSleep\",'Transported']).size()\n",
    "ax=Cryosleep.unstack().plot.bar()\n",
    "plt.xticks(rotation=45)\n",
    "plt.bar_label(ax.containers[1])\n",
    "plt.bar_label(ax.containers[0])"
   ]
  },
  {
   "cell_type": "markdown",
   "id": "31cd0dfd",
   "metadata": {},
   "source": [
    "Since Cryo slept passengers confined in cabins they  were transported to alternate Dimension easily. "
   ]
  },
  {
   "cell_type": "markdown",
   "id": "1a8eb398",
   "metadata": {},
   "source": [
    "<h2 style=\"background-color:DodgerBlue;text-align: center\">III. Destination</h2>"
   ]
  },
  {
   "cell_type": "code",
   "execution_count": 153,
   "id": "541b278f",
   "metadata": {},
   "outputs": [
    {
     "data": {
      "text/plain": [
       "[Text(0, 0, '702'), Text(0, 0, '395'), Text(0, 0, '3218')]"
      ]
     },
     "execution_count": 153,
     "metadata": {},
     "output_type": "execute_result"
    },
    {
     "data": {
      "image/png": "[encoded data removed]",
      "text/plain": [
       "<Figure size 432x288 with 1 Axes>"
      ]
     },
     "metadata": {
      "needs_background": "light"
     },
     "output_type": "display_data"
    }
   ],
   "source": [
    "Cryosleep=train.groupby([\"Destination\",'Transported']).size()\n",
    "ax=Cryosleep.unstack().plot.bar()\n",
    "plt.xticks(rotation=45)\n",
    "plt.bar_label(ax.containers[1])\n",
    "plt.bar_label(ax.containers[0])"
   ]
  },
  {
   "cell_type": "markdown",
   "id": "932a6d7a",
   "metadata": {},
   "source": [
    "\n",
    "<h2 style=\"background-color:DodgerBlue;text-align: center\">iv. Cabin</h2>"
   ]
  },
  {
   "cell_type": "code",
   "execution_count": 154,
   "id": "a2bb22cb",
   "metadata": {},
   "outputs": [],
   "source": [
    "#Nan Analysis\n",
    "train[\"Cabin\"]=train[\"Cabin\"].fillna(\"na/0/na\")"
   ]
  },
  {
   "cell_type": "code",
   "execution_count": 155,
   "id": "3b9767a5",
   "metadata": {},
   "outputs": [],
   "source": [
    "test[\"Cabin\"]=test[\"Cabin\"].fillna(\"na/0/na\")"
   ]
  },
  {
   "cell_type": "code",
   "execution_count": 156,
   "id": "12541470",
   "metadata": {},
   "outputs": [
    {
     "data": {
      "text/html": [
       "<div>\n",
       "<style scoped>\n",
       "    .dataframe tbody tr th:only-of-type {\n",
       "        vertical-align: middle;\n",
       "    }\n",
       "\n",
       "    .dataframe tbody tr th {\n",
       "        vertical-align: top;\n",
       "    }\n",
       "\n",
       "    .dataframe thead th {\n",
       "        text-align: right;\n",
       "    }\n",
       "</style>\n",
       "<table border=\"1\" class=\"dataframe\">\n",
       "  <thead>\n",
       "    <tr style=\"text-align: right;\">\n",
       "      <th></th>\n",
       "      <th>PassengerId</th>\n",
       "      <th>HomePlanet</th>\n",
       "      <th>CryoSleep</th>\n",
       "      <th>Cabin</th>\n",
       "      <th>Destination</th>\n",
       "      <th>Age</th>\n",
       "      <th>VIP</th>\n",
       "      <th>RoomService</th>\n",
       "      <th>FoodCourt</th>\n",
       "      <th>ShoppingMall</th>\n",
       "      <th>Spa</th>\n",
       "      <th>VRDeck</th>\n",
       "      <th>Name</th>\n",
       "      <th>Transported</th>\n",
       "      <th>Deck</th>\n",
       "      <th>RoomNO</th>\n",
       "      <th>Side</th>\n",
       "    </tr>\n",
       "  </thead>\n",
       "  <tbody>\n",
       "    <tr>\n",
       "      <th>0</th>\n",
       "      <td>0001_01</td>\n",
       "      <td>Europa</td>\n",
       "      <td>False</td>\n",
       "      <td>B/0/P</td>\n",
       "      <td>TRAPPIST-1e</td>\n",
       "      <td>39.0</td>\n",
       "      <td>False</td>\n",
       "      <td>0.0</td>\n",
       "      <td>0.0</td>\n",
       "      <td>0.0</td>\n",
       "      <td>0.0</td>\n",
       "      <td>0.0</td>\n",
       "      <td>Maham Ofracculy</td>\n",
       "      <td>False</td>\n",
       "      <td>B</td>\n",
       "      <td>0</td>\n",
       "      <td>P</td>\n",
       "    </tr>\n",
       "    <tr>\n",
       "      <th>1</th>\n",
       "      <td>0002_01</td>\n",
       "      <td>Earth</td>\n",
       "      <td>False</td>\n",
       "      <td>F/0/S</td>\n",
       "      <td>TRAPPIST-1e</td>\n",
       "      <td>24.0</td>\n",
       "      <td>False</td>\n",
       "      <td>109.0</td>\n",
       "      <td>9.0</td>\n",
       "      <td>25.0</td>\n",
       "      <td>549.0</td>\n",
       "      <td>44.0</td>\n",
       "      <td>Juanna Vines</td>\n",
       "      <td>True</td>\n",
       "      <td>F</td>\n",
       "      <td>0</td>\n",
       "      <td>S</td>\n",
       "    </tr>\n",
       "    <tr>\n",
       "      <th>2</th>\n",
       "      <td>0003_01</td>\n",
       "      <td>Europa</td>\n",
       "      <td>False</td>\n",
       "      <td>A/0/S</td>\n",
       "      <td>TRAPPIST-1e</td>\n",
       "      <td>58.0</td>\n",
       "      <td>True</td>\n",
       "      <td>43.0</td>\n",
       "      <td>3576.0</td>\n",
       "      <td>0.0</td>\n",
       "      <td>6715.0</td>\n",
       "      <td>49.0</td>\n",
       "      <td>Altark Susent</td>\n",
       "      <td>False</td>\n",
       "      <td>A</td>\n",
       "      <td>0</td>\n",
       "      <td>S</td>\n",
       "    </tr>\n",
       "    <tr>\n",
       "      <th>3</th>\n",
       "      <td>0003_02</td>\n",
       "      <td>Europa</td>\n",
       "      <td>False</td>\n",
       "      <td>A/0/S</td>\n",
       "      <td>TRAPPIST-1e</td>\n",
       "      <td>33.0</td>\n",
       "      <td>False</td>\n",
       "      <td>0.0</td>\n",
       "      <td>1283.0</td>\n",
       "      <td>371.0</td>\n",
       "      <td>3329.0</td>\n",
       "      <td>193.0</td>\n",
       "      <td>Solam Susent</td>\n",
       "      <td>False</td>\n",
       "      <td>A</td>\n",
       "      <td>0</td>\n",
       "      <td>S</td>\n",
       "    </tr>\n",
       "    <tr>\n",
       "      <th>4</th>\n",
       "      <td>0004_01</td>\n",
       "      <td>Earth</td>\n",
       "      <td>False</td>\n",
       "      <td>F/1/S</td>\n",
       "      <td>TRAPPIST-1e</td>\n",
       "      <td>16.0</td>\n",
       "      <td>False</td>\n",
       "      <td>303.0</td>\n",
       "      <td>70.0</td>\n",
       "      <td>151.0</td>\n",
       "      <td>565.0</td>\n",
       "      <td>2.0</td>\n",
       "      <td>Willy Santantines</td>\n",
       "      <td>True</td>\n",
       "      <td>F</td>\n",
       "      <td>1</td>\n",
       "      <td>S</td>\n",
       "    </tr>\n",
       "    <tr>\n",
       "      <th>...</th>\n",
       "      <td>...</td>\n",
       "      <td>...</td>\n",
       "      <td>...</td>\n",
       "      <td>...</td>\n",
       "      <td>...</td>\n",
       "      <td>...</td>\n",
       "      <td>...</td>\n",
       "      <td>...</td>\n",
       "      <td>...</td>\n",
       "      <td>...</td>\n",
       "      <td>...</td>\n",
       "      <td>...</td>\n",
       "      <td>...</td>\n",
       "      <td>...</td>\n",
       "      <td>...</td>\n",
       "      <td>...</td>\n",
       "      <td>...</td>\n",
       "    </tr>\n",
       "    <tr>\n",
       "      <th>8688</th>\n",
       "      <td>9276_01</td>\n",
       "      <td>Europa</td>\n",
       "      <td>False</td>\n",
       "      <td>A/98/P</td>\n",
       "      <td>55 Cancri e</td>\n",
       "      <td>41.0</td>\n",
       "      <td>True</td>\n",
       "      <td>0.0</td>\n",
       "      <td>6819.0</td>\n",
       "      <td>0.0</td>\n",
       "      <td>1643.0</td>\n",
       "      <td>74.0</td>\n",
       "      <td>Gravior Noxnuther</td>\n",
       "      <td>False</td>\n",
       "      <td>A</td>\n",
       "      <td>98</td>\n",
       "      <td>P</td>\n",
       "    </tr>\n",
       "    <tr>\n",
       "      <th>8689</th>\n",
       "      <td>9278_01</td>\n",
       "      <td>Earth</td>\n",
       "      <td>True</td>\n",
       "      <td>G/1499/S</td>\n",
       "      <td>PSO J318.5-22</td>\n",
       "      <td>18.0</td>\n",
       "      <td>False</td>\n",
       "      <td>0.0</td>\n",
       "      <td>0.0</td>\n",
       "      <td>0.0</td>\n",
       "      <td>0.0</td>\n",
       "      <td>0.0</td>\n",
       "      <td>Kurta Mondalley</td>\n",
       "      <td>False</td>\n",
       "      <td>G</td>\n",
       "      <td>1499</td>\n",
       "      <td>S</td>\n",
       "    </tr>\n",
       "    <tr>\n",
       "      <th>8690</th>\n",
       "      <td>9279_01</td>\n",
       "      <td>Earth</td>\n",
       "      <td>False</td>\n",
       "      <td>G/1500/S</td>\n",
       "      <td>TRAPPIST-1e</td>\n",
       "      <td>26.0</td>\n",
       "      <td>False</td>\n",
       "      <td>0.0</td>\n",
       "      <td>0.0</td>\n",
       "      <td>1872.0</td>\n",
       "      <td>1.0</td>\n",
       "      <td>0.0</td>\n",
       "      <td>Fayey Connon</td>\n",
       "      <td>True</td>\n",
       "      <td>G</td>\n",
       "      <td>1500</td>\n",
       "      <td>S</td>\n",
       "    </tr>\n",
       "    <tr>\n",
       "      <th>8691</th>\n",
       "      <td>9280_01</td>\n",
       "      <td>Europa</td>\n",
       "      <td>False</td>\n",
       "      <td>E/608/S</td>\n",
       "      <td>55 Cancri e</td>\n",
       "      <td>32.0</td>\n",
       "      <td>False</td>\n",
       "      <td>0.0</td>\n",
       "      <td>1049.0</td>\n",
       "      <td>0.0</td>\n",
       "      <td>353.0</td>\n",
       "      <td>3235.0</td>\n",
       "      <td>Celeon Hontichre</td>\n",
       "      <td>False</td>\n",
       "      <td>E</td>\n",
       "      <td>608</td>\n",
       "      <td>S</td>\n",
       "    </tr>\n",
       "    <tr>\n",
       "      <th>8692</th>\n",
       "      <td>9280_02</td>\n",
       "      <td>Europa</td>\n",
       "      <td>False</td>\n",
       "      <td>E/608/S</td>\n",
       "      <td>TRAPPIST-1e</td>\n",
       "      <td>44.0</td>\n",
       "      <td>False</td>\n",
       "      <td>126.0</td>\n",
       "      <td>4688.0</td>\n",
       "      <td>0.0</td>\n",
       "      <td>0.0</td>\n",
       "      <td>12.0</td>\n",
       "      <td>Propsh Hontichre</td>\n",
       "      <td>True</td>\n",
       "      <td>E</td>\n",
       "      <td>608</td>\n",
       "      <td>S</td>\n",
       "    </tr>\n",
       "  </tbody>\n",
       "</table>\n",
       "<p>8693 rows × 17 columns</p>\n",
       "</div>"
      ],
      "text/plain": [
       "     PassengerId HomePlanet  CryoSleep     Cabin    Destination   Age    VIP  \\\n",
       "0        0001_01     Europa      False     B/0/P    TRAPPIST-1e  39.0  False   \n",
       "1        0002_01      Earth      False     F/0/S    TRAPPIST-1e  24.0  False   \n",
       "2        0003_01     Europa      False     A/0/S    TRAPPIST-1e  58.0   True   \n",
       "3        0003_02     Europa      False     A/0/S    TRAPPIST-1e  33.0  False   \n",
       "4        0004_01      Earth      False     F/1/S    TRAPPIST-1e  16.0  False   \n",
       "...          ...        ...        ...       ...            ...   ...    ...   \n",
       "8688     9276_01     Europa      False    A/98/P    55 Cancri e  41.0   True   \n",
       "8689     9278_01      Earth       True  G/1499/S  PSO J318.5-22  18.0  False   \n",
       "8690     9279_01      Earth      False  G/1500/S    TRAPPIST-1e  26.0  False   \n",
       "8691     9280_01     Europa      False   E/608/S    55 Cancri e  32.0  False   \n",
       "8692     9280_02     Europa      False   E/608/S    TRAPPIST-1e  44.0  False   \n",
       "\n",
       "      RoomService  FoodCourt  ShoppingMall     Spa  VRDeck               Name  \\\n",
       "0             0.0        0.0           0.0     0.0     0.0    Maham Ofracculy   \n",
       "1           109.0        9.0          25.0   549.0    44.0       Juanna Vines   \n",
       "2            43.0     3576.0           0.0  6715.0    49.0      Altark Susent   \n",
       "3             0.0     1283.0         371.0  3329.0   193.0       Solam Susent   \n",
       "4           303.0       70.0         151.0   565.0     2.0  Willy Santantines   \n",
       "...           ...        ...           ...     ...     ...                ...   \n",
       "8688          0.0     6819.0           0.0  1643.0    74.0  Gravior Noxnuther   \n",
       "8689          0.0        0.0           0.0     0.0     0.0    Kurta Mondalley   \n",
       "8690          0.0        0.0        1872.0     1.0     0.0       Fayey Connon   \n",
       "8691          0.0     1049.0           0.0   353.0  3235.0   Celeon Hontichre   \n",
       "8692        126.0     4688.0           0.0     0.0    12.0   Propsh Hontichre   \n",
       "\n",
       "      Transported Deck RoomNO Side  \n",
       "0           False    B      0    P  \n",
       "1            True    F      0    S  \n",
       "2           False    A      0    S  \n",
       "3           False    A      0    S  \n",
       "4            True    F      1    S  \n",
       "...           ...  ...    ...  ...  \n",
       "8688        False    A     98    P  \n",
       "8689        False    G   1499    S  \n",
       "8690         True    G   1500    S  \n",
       "8691        False    E    608    S  \n",
       "8692         True    E    608    S  \n",
       "\n",
       "[8693 rows x 17 columns]"
      ]
     },
     "execution_count": 156,
     "metadata": {},
     "output_type": "execute_result"
    }
   ],
   "source": [
    "# Splitting\n",
    "train[[\"Deck\",\"RoomNO\",\"Side\"]]=train[\"Cabin\"].str.split(\"/\",2, expand=True) \n",
    "test[[\"Deck\",\"RoomNO\",\"Side\"]]=test[\"Cabin\"].str.split(\"/\",2, expand=True) \n",
    "train"
   ]
  },
  {
   "cell_type": "markdown",
   "id": "84550d49",
   "metadata": {},
   "source": [
    "### Randomly assigning Na to Any of its side"
   ]
  },
  {
   "cell_type": "code",
   "execution_count": 157,
   "id": "656c2b8e",
   "metadata": {},
   "outputs": [
    {
     "data": {
      "text/plain": [
       "S    4288\n",
       "P    4206\n",
       "Name: Side, dtype: int64"
      ]
     },
     "execution_count": 157,
     "metadata": {},
     "output_type": "execute_result"
    }
   ],
   "source": [
    "train['Side'].replace('na',np.nan,regex=True,inplace=True)\n",
    "test['Side'].replace('na',np.nan,regex=True,inplace=True)\n",
    "train['Side'].value_counts()"
   ]
  },
  {
   "cell_type": "code",
   "execution_count": 158,
   "id": "6b682a47",
   "metadata": {},
   "outputs": [
    {
     "data": {
      "text/plain": [
       "F    2794\n",
       "G    2559\n",
       "E     876\n",
       "B     779\n",
       "C     747\n",
       "D     478\n",
       "A     256\n",
       "T       5\n",
       "Name: Deck, dtype: int64"
      ]
     },
     "execution_count": 158,
     "metadata": {},
     "output_type": "execute_result"
    }
   ],
   "source": [
    "train['Deck'].replace('na',np.nan,regex=True,inplace=True)\n",
    "test['Deck'].replace('na',np.nan,regex=True,inplace=True)\n",
    "train['Deck'].value_counts()"
   ]
  },
  {
   "cell_type": "code",
   "execution_count": 159,
   "id": "df534183",
   "metadata": {},
   "outputs": [],
   "source": [
    "import numpy as np\n",
    "def processNan_side (x):\n",
    "     return np.random.choice([\"S\",\"P\"])\n",
    "train['Side'] = train['Side'].apply(lambda x: processNan_side(x) if x is np.nan else x)\n",
    "test['Side'] = test['Side'].apply(lambda x: processNan_side(x) if x is np.nan else x)"
   ]
  },
  {
   "cell_type": "code",
   "execution_count": 160,
   "id": "11629ebe",
   "metadata": {},
   "outputs": [],
   "source": [
    "\n",
    "def processNan_ORD_deck (x):\n",
    "     return np.random.choice([\"F\",\"G\",\"E\",\"D\"])\n",
    "\n",
    "\n",
    "\n",
    "def processNan_VIP_deck (x):\n",
    "     return np.random.choice([\"A\",\"B\",\"C\"])\n",
    "#train['Deck'] = train[\"Deck\"].apply(lambda x: processNan_deck(x) if x is np.nan else x)\n",
    "#test['Deck'] = test[\"Deck\"].apply(lambda x: processNan_deck(x) if x is np.nan else x)"
   ]
  },
  {
   "cell_type": "code",
   "execution_count": 161,
   "id": "2af37058",
   "metadata": {},
   "outputs": [
    {
     "data": {
      "text/html": [
       "<div>\n",
       "<style scoped>\n",
       "    .dataframe tbody tr th:only-of-type {\n",
       "        vertical-align: middle;\n",
       "    }\n",
       "\n",
       "    .dataframe tbody tr th {\n",
       "        vertical-align: top;\n",
       "    }\n",
       "\n",
       "    .dataframe thead th {\n",
       "        text-align: right;\n",
       "    }\n",
       "</style>\n",
       "<table border=\"1\" class=\"dataframe\">\n",
       "  <thead>\n",
       "    <tr style=\"text-align: right;\">\n",
       "      <th></th>\n",
       "      <th>PassengerId</th>\n",
       "      <th>HomePlanet</th>\n",
       "      <th>CryoSleep</th>\n",
       "      <th>Cabin</th>\n",
       "      <th>Destination</th>\n",
       "      <th>Age</th>\n",
       "      <th>VIP</th>\n",
       "      <th>RoomService</th>\n",
       "      <th>FoodCourt</th>\n",
       "      <th>ShoppingMall</th>\n",
       "      <th>Spa</th>\n",
       "      <th>VRDeck</th>\n",
       "      <th>Name</th>\n",
       "      <th>Transported</th>\n",
       "      <th>Deck</th>\n",
       "      <th>RoomNO</th>\n",
       "      <th>Side</th>\n",
       "    </tr>\n",
       "  </thead>\n",
       "  <tbody>\n",
       "    <tr>\n",
       "      <th>0</th>\n",
       "      <td>0001_01</td>\n",
       "      <td>Europa</td>\n",
       "      <td>False</td>\n",
       "      <td>B/0/P</td>\n",
       "      <td>TRAPPIST-1e</td>\n",
       "      <td>39.0</td>\n",
       "      <td>False</td>\n",
       "      <td>0.0</td>\n",
       "      <td>0.0</td>\n",
       "      <td>0.0</td>\n",
       "      <td>0.0</td>\n",
       "      <td>0.0</td>\n",
       "      <td>Maham Ofracculy</td>\n",
       "      <td>False</td>\n",
       "      <td>B</td>\n",
       "      <td>0</td>\n",
       "      <td>P</td>\n",
       "    </tr>\n",
       "    <tr>\n",
       "      <th>1</th>\n",
       "      <td>0002_01</td>\n",
       "      <td>Earth</td>\n",
       "      <td>False</td>\n",
       "      <td>F/0/S</td>\n",
       "      <td>TRAPPIST-1e</td>\n",
       "      <td>24.0</td>\n",
       "      <td>False</td>\n",
       "      <td>109.0</td>\n",
       "      <td>9.0</td>\n",
       "      <td>25.0</td>\n",
       "      <td>549.0</td>\n",
       "      <td>44.0</td>\n",
       "      <td>Juanna Vines</td>\n",
       "      <td>True</td>\n",
       "      <td>F</td>\n",
       "      <td>0</td>\n",
       "      <td>S</td>\n",
       "    </tr>\n",
       "    <tr>\n",
       "      <th>2</th>\n",
       "      <td>0003_01</td>\n",
       "      <td>Europa</td>\n",
       "      <td>False</td>\n",
       "      <td>A/0/S</td>\n",
       "      <td>TRAPPIST-1e</td>\n",
       "      <td>58.0</td>\n",
       "      <td>True</td>\n",
       "      <td>43.0</td>\n",
       "      <td>3576.0</td>\n",
       "      <td>0.0</td>\n",
       "      <td>6715.0</td>\n",
       "      <td>49.0</td>\n",
       "      <td>Altark Susent</td>\n",
       "      <td>False</td>\n",
       "      <td>A</td>\n",
       "      <td>0</td>\n",
       "      <td>S</td>\n",
       "    </tr>\n",
       "    <tr>\n",
       "      <th>3</th>\n",
       "      <td>0003_02</td>\n",
       "      <td>Europa</td>\n",
       "      <td>False</td>\n",
       "      <td>A/0/S</td>\n",
       "      <td>TRAPPIST-1e</td>\n",
       "      <td>33.0</td>\n",
       "      <td>False</td>\n",
       "      <td>0.0</td>\n",
       "      <td>1283.0</td>\n",
       "      <td>371.0</td>\n",
       "      <td>3329.0</td>\n",
       "      <td>193.0</td>\n",
       "      <td>Solam Susent</td>\n",
       "      <td>False</td>\n",
       "      <td>A</td>\n",
       "      <td>0</td>\n",
       "      <td>S</td>\n",
       "    </tr>\n",
       "    <tr>\n",
       "      <th>4</th>\n",
       "      <td>0004_01</td>\n",
       "      <td>Earth</td>\n",
       "      <td>False</td>\n",
       "      <td>F/1/S</td>\n",
       "      <td>TRAPPIST-1e</td>\n",
       "      <td>16.0</td>\n",
       "      <td>False</td>\n",
       "      <td>303.0</td>\n",
       "      <td>70.0</td>\n",
       "      <td>151.0</td>\n",
       "      <td>565.0</td>\n",
       "      <td>2.0</td>\n",
       "      <td>Willy Santantines</td>\n",
       "      <td>True</td>\n",
       "      <td>F</td>\n",
       "      <td>1</td>\n",
       "      <td>S</td>\n",
       "    </tr>\n",
       "    <tr>\n",
       "      <th>...</th>\n",
       "      <td>...</td>\n",
       "      <td>...</td>\n",
       "      <td>...</td>\n",
       "      <td>...</td>\n",
       "      <td>...</td>\n",
       "      <td>...</td>\n",
       "      <td>...</td>\n",
       "      <td>...</td>\n",
       "      <td>...</td>\n",
       "      <td>...</td>\n",
       "      <td>...</td>\n",
       "      <td>...</td>\n",
       "      <td>...</td>\n",
       "      <td>...</td>\n",
       "      <td>...</td>\n",
       "      <td>...</td>\n",
       "      <td>...</td>\n",
       "    </tr>\n",
       "    <tr>\n",
       "      <th>8688</th>\n",
       "      <td>9276_01</td>\n",
       "      <td>Europa</td>\n",
       "      <td>False</td>\n",
       "      <td>A/98/P</td>\n",
       "      <td>55 Cancri e</td>\n",
       "      <td>41.0</td>\n",
       "      <td>True</td>\n",
       "      <td>0.0</td>\n",
       "      <td>6819.0</td>\n",
       "      <td>0.0</td>\n",
       "      <td>1643.0</td>\n",
       "      <td>74.0</td>\n",
       "      <td>Gravior Noxnuther</td>\n",
       "      <td>False</td>\n",
       "      <td>A</td>\n",
       "      <td>98</td>\n",
       "      <td>P</td>\n",
       "    </tr>\n",
       "    <tr>\n",
       "      <th>8689</th>\n",
       "      <td>9278_01</td>\n",
       "      <td>Earth</td>\n",
       "      <td>True</td>\n",
       "      <td>G/1499/S</td>\n",
       "      <td>PSO J318.5-22</td>\n",
       "      <td>18.0</td>\n",
       "      <td>False</td>\n",
       "      <td>0.0</td>\n",
       "      <td>0.0</td>\n",
       "      <td>0.0</td>\n",
       "      <td>0.0</td>\n",
       "      <td>0.0</td>\n",
       "      <td>Kurta Mondalley</td>\n",
       "      <td>False</td>\n",
       "      <td>G</td>\n",
       "      <td>1499</td>\n",
       "      <td>S</td>\n",
       "    </tr>\n",
       "    <tr>\n",
       "      <th>8690</th>\n",
       "      <td>9279_01</td>\n",
       "      <td>Earth</td>\n",
       "      <td>False</td>\n",
       "      <td>G/1500/S</td>\n",
       "      <td>TRAPPIST-1e</td>\n",
       "      <td>26.0</td>\n",
       "      <td>False</td>\n",
       "      <td>0.0</td>\n",
       "      <td>0.0</td>\n",
       "      <td>1872.0</td>\n",
       "      <td>1.0</td>\n",
       "      <td>0.0</td>\n",
       "      <td>Fayey Connon</td>\n",
       "      <td>True</td>\n",
       "      <td>G</td>\n",
       "      <td>1500</td>\n",
       "      <td>S</td>\n",
       "    </tr>\n",
       "    <tr>\n",
       "      <th>8691</th>\n",
       "      <td>9280_01</td>\n",
       "      <td>Europa</td>\n",
       "      <td>False</td>\n",
       "      <td>E/608/S</td>\n",
       "      <td>55 Cancri e</td>\n",
       "      <td>32.0</td>\n",
       "      <td>False</td>\n",
       "      <td>0.0</td>\n",
       "      <td>1049.0</td>\n",
       "      <td>0.0</td>\n",
       "      <td>353.0</td>\n",
       "      <td>3235.0</td>\n",
       "      <td>Celeon Hontichre</td>\n",
       "      <td>False</td>\n",
       "      <td>E</td>\n",
       "      <td>608</td>\n",
       "      <td>S</td>\n",
       "    </tr>\n",
       "    <tr>\n",
       "      <th>8692</th>\n",
       "      <td>9280_02</td>\n",
       "      <td>Europa</td>\n",
       "      <td>False</td>\n",
       "      <td>E/608/S</td>\n",
       "      <td>TRAPPIST-1e</td>\n",
       "      <td>44.0</td>\n",
       "      <td>False</td>\n",
       "      <td>126.0</td>\n",
       "      <td>4688.0</td>\n",
       "      <td>0.0</td>\n",
       "      <td>0.0</td>\n",
       "      <td>12.0</td>\n",
       "      <td>Propsh Hontichre</td>\n",
       "      <td>True</td>\n",
       "      <td>E</td>\n",
       "      <td>608</td>\n",
       "      <td>S</td>\n",
       "    </tr>\n",
       "  </tbody>\n",
       "</table>\n",
       "<p>8693 rows × 17 columns</p>\n",
       "</div>"
      ],
      "text/plain": [
       "     PassengerId HomePlanet  CryoSleep     Cabin    Destination   Age    VIP  \\\n",
       "0        0001_01     Europa      False     B/0/P    TRAPPIST-1e  39.0  False   \n",
       "1        0002_01      Earth      False     F/0/S    TRAPPIST-1e  24.0  False   \n",
       "2        0003_01     Europa      False     A/0/S    TRAPPIST-1e  58.0   True   \n",
       "3        0003_02     Europa      False     A/0/S    TRAPPIST-1e  33.0  False   \n",
       "4        0004_01      Earth      False     F/1/S    TRAPPIST-1e  16.0  False   \n",
       "...          ...        ...        ...       ...            ...   ...    ...   \n",
       "8688     9276_01     Europa      False    A/98/P    55 Cancri e  41.0   True   \n",
       "8689     9278_01      Earth       True  G/1499/S  PSO J318.5-22  18.0  False   \n",
       "8690     9279_01      Earth      False  G/1500/S    TRAPPIST-1e  26.0  False   \n",
       "8691     9280_01     Europa      False   E/608/S    55 Cancri e  32.0  False   \n",
       "8692     9280_02     Europa      False   E/608/S    TRAPPIST-1e  44.0  False   \n",
       "\n",
       "      RoomService  FoodCourt  ShoppingMall     Spa  VRDeck               Name  \\\n",
       "0             0.0        0.0           0.0     0.0     0.0    Maham Ofracculy   \n",
       "1           109.0        9.0          25.0   549.0    44.0       Juanna Vines   \n",
       "2            43.0     3576.0           0.0  6715.0    49.0      Altark Susent   \n",
       "3             0.0     1283.0         371.0  3329.0   193.0       Solam Susent   \n",
       "4           303.0       70.0         151.0   565.0     2.0  Willy Santantines   \n",
       "...           ...        ...           ...     ...     ...                ...   \n",
       "8688          0.0     6819.0           0.0  1643.0    74.0  Gravior Noxnuther   \n",
       "8689          0.0        0.0           0.0     0.0     0.0    Kurta Mondalley   \n",
       "8690          0.0        0.0        1872.0     1.0     0.0       Fayey Connon   \n",
       "8691          0.0     1049.0           0.0   353.0  3235.0   Celeon Hontichre   \n",
       "8692        126.0     4688.0           0.0     0.0    12.0   Propsh Hontichre   \n",
       "\n",
       "      Transported Deck RoomNO Side  \n",
       "0           False    B      0    P  \n",
       "1            True    F      0    S  \n",
       "2           False    A      0    S  \n",
       "3           False    A      0    S  \n",
       "4            True    F      1    S  \n",
       "...           ...  ...    ...  ...  \n",
       "8688        False    A     98    P  \n",
       "8689        False    G   1499    S  \n",
       "8690         True    G   1500    S  \n",
       "8691        False    E    608    S  \n",
       "8692         True    E    608    S  \n",
       "\n",
       "[8693 rows x 17 columns]"
      ]
     },
     "execution_count": 161,
     "metadata": {},
     "output_type": "execute_result"
    }
   ],
   "source": [
    "vips = train[train.VIP == True].copy()\n",
    "non_vips = train[train.VIP == False].copy()\n",
    "\n",
    "\n",
    "vips[\"Deck\"] = vips[\"Deck\"].apply(lambda x: processNan_VIP_deck(x) if x is np.nan else x)\n",
    "non_vips[\"Deck\"] = non_vips[\"Deck\"].apply(lambda x: processNan_ORD_deck(x) if x is np.nan else x)\n",
    "    \n",
    "train = pd.concat([vips, non_vips]).sort_index()\n",
    "train"
   ]
  },
  {
   "cell_type": "code",
   "execution_count": 162,
   "id": "9f358e95",
   "metadata": {},
   "outputs": [],
   "source": [
    "vips = test[test.VIP == True].copy()\n",
    "non_vips = test[test.VIP == False].copy()\n",
    "\n",
    "\n",
    "vips[\"Deck\"] = vips[\"Deck\"].apply(lambda x: processNan_VIP_deck(x) if x is np.nan else x)\n",
    "non_vips[\"Deck\"] = non_vips[\"Deck\"].apply(lambda x: processNan_ORD_deck(x) if x is np.nan else x)\n",
    "test = pd.concat([vips, non_vips]).sort_index()\n"
   ]
  },
  {
   "cell_type": "markdown",
   "id": "59a7c392",
   "metadata": {},
   "source": [
    "if train.Deck[train.VIP == False]:\n",
    "    train['Deck'] = train[\"Deck\"].apply(lambda x: processNan_OrD_deck(x) if x is np.nan else x)\n",
    "else:\n",
    "    train['Deck'] = train[\"Deck\"].apply(lambda x: processNan_VIP_deck(x) if x is np.nan else x)"
   ]
  },
  {
   "cell_type": "code",
   "execution_count": 163,
   "id": "b7c93bc0",
   "metadata": {},
   "outputs": [
    {
     "data": {
      "text/plain": [
       "F    2840\n",
       "G    2612\n",
       "E     920\n",
       "B     781\n",
       "C     747\n",
       "D     528\n",
       "A     260\n",
       "T       5\n",
       "Name: Deck, dtype: int64"
      ]
     },
     "execution_count": 163,
     "metadata": {},
     "output_type": "execute_result"
    }
   ],
   "source": [
    "train['Deck'].value_counts()"
   ]
  },
  {
   "cell_type": "markdown",
   "id": "45688cca",
   "metadata": {},
   "source": [
    "c=[\"Deck\",\"RoomNO\",\"Side\"]\n",
    "for i in c:\n",
    "    print(i,\":\\n\",train[i].value_counts())\n",
    "    print(\"-\"*20)"
   ]
  },
  {
   "cell_type": "markdown",
   "id": "c0225871",
   "metadata": {},
   "source": [
    "c=[\"Deck\",\"Side\"]\n",
    "for i in c:\n",
    "    x =train.groupby([\"Transported\"])[i]\n",
    "\n",
    "\n",
    " \n",
    "\n",
    "    for name, group in x:\n",
    "        print(name)\n",
    "        print(group.value_counts())\n",
    "        print()\n",
    "        "
   ]
  },
  {
   "cell_type": "code",
   "execution_count": 164,
   "id": "0b92869d",
   "metadata": {},
   "outputs": [],
   "source": [
    "def bar_chart(col):\n",
    "    Transported = train[train['Transported']==True][col].value_counts().sort_values()\n",
    "    Retained = train[train['Transported']==False][col].value_counts().sort_values()\n",
    "    df = pd.DataFrame([Transported,Retained])\n",
    "    df.index = ['Transported','Retained']\n",
    "    df.plot(kind='bar',stacked=False, figsize=(10,5),edgecolor=\"black\",cmap='vlag_r')\n",
    "    plt.xlabel(i)"
   ]
  },
  {
   "cell_type": "code",
   "execution_count": 165,
   "id": "d3b53072",
   "metadata": {},
   "outputs": [
    {
     "name": "stdout",
     "output_type": "stream",
     "text": [
      "Deck\n",
      "Transported  Deck\n",
      "False        F       1584\n",
      "             G       1265\n",
      "             E        583\n",
      "             D        299\n",
      "             C        239\n",
      "             B        208\n",
      "             A        133\n",
      "             T          4\n",
      "True         G       1347\n",
      "             F       1256\n",
      "             B        573\n",
      "             C        508\n",
      "             E        337\n",
      "             D        229\n",
      "             A        127\n",
      "             T          1\n",
      "Name: Deck, dtype: int64\n",
      "\n",
      "Side\n",
      "Transported  Side\n",
      "False        P       2356\n",
      "             S       1959\n",
      "True         S       2436\n",
      "             P       1942\n",
      "Name: Side, dtype: int64\n",
      "\n"
     ]
    },
    {
     "data": {
      "image/png": "[encoded data removed]",
      "text/plain": [
       "<Figure size 720x360 with 1 Axes>"
      ]
     },
     "metadata": {
      "needs_background": "light"
     },
     "output_type": "display_data"
    },
    {
     "data": {
      "image/png": "[encoded data removed]",
      "text/plain": [
       "<Figure size 720x360 with 1 Axes>"
      ]
     },
     "metadata": {
      "needs_background": "light"
     },
     "output_type": "display_data"
    }
   ],
   "source": [
    "c=[\"Deck\",\"Side\"]\n",
    "for i in c:\n",
    "    bar_chart(i)\n",
    "    x =train.groupby([\"Transported\"])[i]\n",
    "    #for name, group in x:\n",
    "    print(i)\n",
    "    print(x.value_counts())\n",
    "    print()\n",
    "    "
   ]
  },
  {
   "cell_type": "markdown",
   "id": "754e6ae7",
   "metadata": {},
   "source": [
    "* B&C Deck is riskier to travel since they got transported to alternate dimension  compared to others.\n",
    "* E&F Deck Passenger Retained in the ship to a significant amount.\n",
    "* Starboard side passengers more transported to the alternate dimension.\n",
    "* It seems no one tranported from G Deck. "
   ]
  },
  {
   "cell_type": "code",
   "execution_count": 166,
   "id": "aafc22c7",
   "metadata": {},
   "outputs": [],
   "source": [
    "tab=train.groupby([\"Side\",\"Deck\",'Transported']).size()\n"
   ]
  },
  {
   "cell_type": "code",
   "execution_count": 167,
   "id": "ff45fb25",
   "metadata": {},
   "outputs": [
    {
     "data": {
      "text/plain": [
       "(array([ 0,  1,  2,  3,  4,  5,  6,  7,  8,  9, 10, 11, 12, 13, 14, 15]),\n",
       " [Text(0, 0, '(P, A)'),\n",
       "  Text(1, 0, '(P, B)'),\n",
       "  Text(2, 0, '(P, C)'),\n",
       "  Text(3, 0, '(P, D)'),\n",
       "  Text(4, 0, '(P, E)'),\n",
       "  Text(5, 0, '(P, F)'),\n",
       "  Text(6, 0, '(P, G)'),\n",
       "  Text(7, 0, '(P, T)'),\n",
       "  Text(8, 0, '(S, A)'),\n",
       "  Text(9, 0, '(S, B)'),\n",
       "  Text(10, 0, '(S, C)'),\n",
       "  Text(11, 0, '(S, D)'),\n",
       "  Text(12, 0, '(S, E)'),\n",
       "  Text(13, 0, '(S, F)'),\n",
       "  Text(14, 0, '(S, G)'),\n",
       "  Text(15, 0, '(S, T)')])"
      ]
     },
     "execution_count": 167,
     "metadata": {},
     "output_type": "execute_result"
    },
    {
     "data": {
      "image/png": "[encoded data removed]",
      "text/plain": [
       "<Figure size 720x360 with 1 Axes>"
      ]
     },
     "metadata": {
      "needs_background": "light"
     },
     "output_type": "display_data"
    }
   ],
   "source": [
    "ax=tab.unstack().plot.bar(cmap=\"PiYG\",figsize=(10,5),edgecolor=\"White\")\n",
    "plt.xticks(rotation=45)\n",
    "#plt.bar_label(ax.containers[1])\n",
    "#plt.bar_label(ax.containers[0])"
   ]
  },
  {
   "cell_type": "markdown",
   "id": "29157397",
   "metadata": {},
   "source": [
    "\n",
    "<h2 style=\"background-color:DodgerBlue;text-align: center\">v. HomePlanet</h2>"
   ]
  },
  {
   "cell_type": "code",
   "execution_count": 168,
   "id": "aa047254",
   "metadata": {},
   "outputs": [
    {
     "data": {
      "text/plain": [
       "[Text(0, 0, '2749'), Text(0, 0, '727'), Text(0, 0, '839')]"
      ]
     },
     "execution_count": 168,
     "metadata": {},
     "output_type": "execute_result"
    },
    {
     "data": {
      "image/png": "[encoded data removed]",
      "text/plain": [
       "<Figure size 432x288 with 1 Axes>"
      ]
     },
     "metadata": {
      "needs_background": "light"
     },
     "output_type": "display_data"
    }
   ],
   "source": [
    "HomePlanet=train.groupby([\"HomePlanet\",'Transported']).size()\n",
    "ax=HomePlanet.unstack().plot.bar(cmap=\"viridis_r\",edgecolor=\"Black\")\n",
    "plt.xticks(rotation=45)\n",
    "plt.bar_label(ax.containers[1])\n",
    "plt.bar_label(ax.containers[0])"
   ]
  },
  {
   "cell_type": "markdown",
   "id": "8c82f817",
   "metadata": {},
   "source": [
    "* Europa People tranported to alternative dimension are relatively high."
   ]
  },
  {
   "cell_type": "markdown",
   "id": "b9de24c6",
   "metadata": {},
   "source": [
    "\n",
    "<h2 style=\"background-color:DodgerBlue;text-align: center\">VI. VIP Status</h2>"
   ]
  },
  {
   "cell_type": "code",
   "execution_count": 169,
   "id": "570522b4",
   "metadata": {},
   "outputs": [
    {
     "data": {
      "text/plain": [
       "False    8494\n",
       "True      199\n",
       "Name: VIP, dtype: int64"
      ]
     },
     "execution_count": 169,
     "metadata": {},
     "output_type": "execute_result"
    }
   ],
   "source": [
    "train['VIP'].value_counts()"
   ]
  },
  {
   "cell_type": "code",
   "execution_count": 170,
   "id": "3d78f600",
   "metadata": {},
   "outputs": [],
   "source": [
    "train[\"Transported\"]=train[\"Transported\"].map({True:\"Tranported\",False:\"Retained\"})\n"
   ]
  },
  {
   "cell_type": "code",
   "execution_count": 171,
   "id": "5dc44452",
   "metadata": {},
   "outputs": [
    {
     "data": {
      "text/plain": [
       "(array([], dtype=float64), [])"
      ]
     },
     "execution_count": 171,
     "metadata": {},
     "output_type": "execute_result"
    },
    {
     "data": {
      "image/png": "[encoded data removed]",
      "text/plain": [
       "<Figure size 864x720 with 2 Axes>"
      ]
     },
     "metadata": {},
     "output_type": "display_data"
    }
   ],
   "source": [
    "\n",
    "VIP=train.groupby(['Transported',\"VIP\"]).size()\n",
    "ax=VIP.unstack().plot.pie(subplots=True,figsize=(12,10),autopct='%1.0f%%',explode = (0.02,0.02),wedgeprops= {\"edgecolor\":\"black\",'linewidth': 1,'antialiased': True})\n",
    "                                                                                         \n",
    "                    \n",
    "plt.xticks(rotation=45)\n",
    "#plt.bar_label(ax.containers[1])\n",
    "#plt.bar_label(ax.containers[0])"
   ]
  },
  {
   "cell_type": "markdown",
   "id": "a34637aa",
   "metadata": {},
   "source": [
    "It Seems there is the very limited. VIP seats security is moderately good because less percentage of VIPs were transported to alternate dimension."
   ]
  },
  {
   "cell_type": "markdown",
   "id": "bf06f948",
   "metadata": {},
   "source": [
    "\n",
    "<h2 style=\"background-color:DodgerBlue;text-align: center\">lets see where these VIPs stayed</h2>"
   ]
  },
  {
   "cell_type": "code",
   "execution_count": 172,
   "id": "fc4245e3",
   "metadata": {},
   "outputs": [
    {
     "data": {
      "text/plain": [
       "Text(0.5, 1.0, 'VIP Decks')"
      ]
     },
     "execution_count": 172,
     "metadata": {},
     "output_type": "execute_result"
    },
    {
     "data": {
      "image/png": "[encoded data removed]",
      "text/plain": [
       "<Figure size 1152x720 with 2 Axes>"
      ]
     },
     "metadata": {},
     "output_type": "display_data"
    }
   ],
   "source": [
    "VIP_deck=train.groupby(['Deck',\"VIP\"]).size()\n",
    "ax=VIP_deck.unstack().plot.pie(subplots=True,cmap=\"Dark2\",figsize=(16,10),autopct='%1.0f%%',wedgeprops= {\"edgecolor\":\"brown\",'linewidth': 0.5})\n",
    "#plt.xticks(rotation=45)\n",
    "ax[0].set_title('Ordinary People Decks',color=\"red\",size=20)\n",
    "ax[1].set_title('VIP Decks',color=\"red\",size=20)\n"
   ]
  },
  {
   "cell_type": "markdown",
   "id": "5688b185",
   "metadata": {},
   "source": [
    "VIPs were mostly present in ABC decks. Lets take it as decks were placed alphabeticllay from upper to lower. VIPs were mostly stayed in upper Decks."
   ]
  },
  {
   "cell_type": "code",
   "execution_count": 173,
   "id": "864bc657",
   "metadata": {},
   "outputs": [
    {
     "data": {
      "image/png": "[encoded data removed]",
      "text/plain": [
       "<Figure size 864x288 with 2 Axes>"
      ]
     },
     "metadata": {
      "needs_background": "light"
     },
     "output_type": "display_data"
    }
   ],
   "source": [
    "f, (ax1, ax2) = plt.subplots(2, 1, sharex=True, figsize=(12,4))\n",
    "\n",
    "bins = 50\n",
    "\n",
    "ax1.hist(train.Age[train.Transported == \"Tranported\"], bins = bins,edgecolor=\"black\")\n",
    "ax1.set_title('Transported')\n",
    "\n",
    "ax2.hist(train.Age[train.Transported == \"Retained\"], bins = bins,color=\"red\",edgecolor=\"black\")\n",
    "ax2.set_title('Retained')\n",
    "\n",
    "plt.xlabel('age')\n",
    "\n",
    "plt.show()"
   ]
  },
  {
   "cell_type": "markdown",
   "id": "3f4b1ec3",
   "metadata": {},
   "source": [
    "<h3 style=\"background-color:DodgerBlue;text-align: center\">VII Luxury Services</h3>"
   ]
  },
  {
   "cell_type": "markdown",
   "id": "76196c0c",
   "metadata": {},
   "source": [
    "<p5>\n",
    "    <style>\n",
    "p { color:#F9051F }\n",
    "\n",
    "    **Luxury Services**\n",
    "    </style><p5>"
   ]
  },
  {
   "cell_type": "code",
   "execution_count": 174,
   "id": "34149eb2",
   "metadata": {},
   "outputs": [],
   "source": [
    "warnings.filterwarnings(action='ignore', category=FutureWarning) # setting ignore as a parameter and further adding category\n"
   ]
  },
  {
   "cell_type": "code",
   "execution_count": 175,
   "id": "4c28876e",
   "metadata": {},
   "outputs": [
    {
     "data": {
      "image/png": "[encoded data removed]",
      "text/plain": [
       "<Figure size 864x4032 with 5 Axes>"
      ]
     },
     "metadata": {
      "needs_background": "light"
     },
     "output_type": "display_data"
    }
   ],
   "source": [
    "plt.figure(figsize=(12,28*2))\n",
    "gs = gridspec.GridSpec(28, 2)\n",
    "c=[\"RoomService\",\"FoodCourt\",\"ShoppingMall\",\"Spa\",\"VRDeck\"]\n",
    "#v_features = df.ix[:,1:29].columns\n",
    "for i, cn in enumerate(train[c]):\n",
    "    ax = plt.subplot(gs[i])\n",
    "    sns.distplot(train[cn][train.Transported == \"Tranported\"], bins=50,color=\"green\")\n",
    "    sns.distplot(train[cn][train.Transported == \"Retained\"], bins=50,color=\"red\")\n",
    "    ax.set_xlabel('')\n",
    "    ax.set_title('histogram of feature: ' + str(cn))\n",
    "plt.tight_layout() \n",
    "plt.show()"
   ]
  },
  {
   "cell_type": "markdown",
   "id": "881eeef4",
   "metadata": {},
   "source": [
    "Above are columns mostly contains 0 values."
   ]
  },
  {
   "cell_type": "markdown",
   "id": "ec1896f6",
   "metadata": {},
   "source": [
    "\n",
    "<h3 style=\"background-color:DodgerBlue;text-align: center\">VIPs and Luxury</h3>    "
   ]
  },
  {
   "cell_type": "code",
   "execution_count": 176,
   "id": "2e7e27a8",
   "metadata": {},
   "outputs": [
    {
     "data": {
      "image/png": "[encoded data removed]",
      "text/plain": [
       "<Figure size 864x4032 with 5 Axes>"
      ]
     },
     "metadata": {
      "needs_background": "light"
     },
     "output_type": "display_data"
    }
   ],
   "source": [
    "plt.figure(figsize=(12,28*2))\n",
    "gs = gridspec.GridSpec(28, 2)\n",
    "c=[\"RoomService\",\"FoodCourt\",\"ShoppingMall\",\"Spa\",\"VRDeck\"]\n",
    "#v_features = df.ix[:,1:29].columns\n",
    "for i, cn in enumerate(train[c]):\n",
    "    ax = plt.subplot(gs[i])\n",
    "    sns.distplot(train[cn][train.VIP == True], bins=50,color=\"blue\")\n",
    "    sns.distplot(train[cn][train.VIP == False ], bins=50,color=\"red\")\n",
    "    ax.set_xlabel('')\n",
    "    ax.set_title('histogram of feature: ' + str(cn))\n",
    "plt.tight_layout() \n",
    "plt.show()"
   ]
  },
  {
   "cell_type": "markdown",
   "id": "dca9a929",
   "metadata": {},
   "source": [
    "Mostly VIP persons used these luxuries. so when filling nan we can chose to replace VIPs mean value and Non-VIps withzero"
   ]
  },
  {
   "cell_type": "code",
   "execution_count": 177,
   "id": "9c4b6889",
   "metadata": {},
   "outputs": [
    {
     "data": {
      "image/png": "[encoded data removed]",
      "text/plain": [
       "<Figure size 864x3456 with 5 Axes>"
      ]
     },
     "metadata": {
      "needs_background": "light"
     },
     "output_type": "display_data"
    }
   ],
   "source": [
    "plt.figure(figsize=(12,12*4))\n",
    "gs = gridspec.GridSpec(32, 2)\n",
    "c=[\"RoomService\",\"FoodCourt\",\"ShoppingMall\",\"Spa\",\"VRDeck\"]\n",
    "#v_features = df.ix[:,1:29].columns\n",
    "for i, cn in enumerate(train[c]):\n",
    "    ax = plt.subplot(gs[i])\n",
    "    \n",
    "    sns.histplot(train[cn][train.CryoSleep == False ],bins=100,color=\"red\")\n",
    "    sns.histplot(train[cn][train.CryoSleep == True], bins=150,color=\"blue\")\n",
    "    ax.set_xlabel('')\n",
    "    ax.set_title('histogram of feature: ' + str(cn))\n",
    "plt.tight_layout() \n",
    "plt.show()"
   ]
  },
  {
   "cell_type": "code",
   "execution_count": 178,
   "id": "305d5306",
   "metadata": {},
   "outputs": [
    {
     "data": {
      "image/png": "[encoded data removed]",
      "text/plain": [
       "<Figure size 864x4032 with 5 Axes>"
      ]
     },
     "metadata": {
      "needs_background": "light"
     },
     "output_type": "display_data"
    }
   ],
   "source": [
    "plt.figure(figsize=(12,28*2))\n",
    "gs = gridspec.GridSpec(28, 3)\n",
    "c=[\"RoomService\",\"FoodCourt\",\"ShoppingMall\",\"Spa\",\"VRDeck\"]\n",
    "#v_features = df.ix[:,1:29].columns\n",
    "for i, cn in enumerate(train[c]):\n",
    "    ax = plt.subplot(gs[i])\n",
    "    sns.histplot(train[cn][train.CryoSleep == True], bins=50,color=\"blue\")\n",
    "    #sns.histplot(train[cn][train.CryoSleep == False ],bins=50,color=\"red\")\n",
    "    ax.set_xlabel('')\n",
    "    ax.set_title('histogram of feature: ' + str(cn))\n",
    "plt.tight_layout() \n",
    "plt.show()"
   ]
  },
  {
   "cell_type": "markdown",
   "id": "ee2d882b",
   "metadata": {},
   "source": [
    "People in cryosleet they can't have any use of RoomService\",\"FoodCourt\",\"ShoppingMall\",\"Spa\",\"VRDeck\". so we can fill Nan values related to zero."
   ]
  },
  {
   "cell_type": "code",
   "execution_count": 179,
   "id": "1659eb17",
   "metadata": {},
   "outputs": [],
   "source": [
    "for i, cn in enumerate(train[c]):\n",
    "    train[cn]=train[cn].fillna(\"-\")"
   ]
  },
  {
   "cell_type": "code",
   "execution_count": 180,
   "id": "d2392616",
   "metadata": {},
   "outputs": [],
   "source": [
    "for i, cn in enumerate(train[c]):\n",
    "   \n",
    "    if [(train[cn] ==\"-\") & (train.CryoSleep == True )]:\n",
    "        train[cn]=train[cn].replace(to_replace=\"-\",value=0)\n",
    "    elif [(train[cn] ==\"-\") & (train.CryoSleep == False ) & (train.VIP == False )]:\n",
    "        train[cn]=train[cn].replace(to_replace=\"-\",value=0)\n",
    "    else:\n",
    "        train[cn]=train[cn].replace(to_replace=\"-\",value=train[cn].mean())\n",
    "        \n",
    "        "
   ]
  },
  {
   "cell_type": "code",
   "execution_count": 181,
   "id": "83e1affb",
   "metadata": {
    "scrolled": true
   },
   "outputs": [
    {
     "data": {
      "text/html": [
       "<div>\n",
       "<style scoped>\n",
       "    .dataframe tbody tr th:only-of-type {\n",
       "        vertical-align: middle;\n",
       "    }\n",
       "\n",
       "    .dataframe tbody tr th {\n",
       "        vertical-align: top;\n",
       "    }\n",
       "\n",
       "    .dataframe thead th {\n",
       "        text-align: right;\n",
       "    }\n",
       "</style>\n",
       "<table border=\"1\" class=\"dataframe\">\n",
       "  <thead>\n",
       "    <tr style=\"text-align: right;\">\n",
       "      <th></th>\n",
       "      <th>PassengerId</th>\n",
       "      <th>HomePlanet</th>\n",
       "      <th>CryoSleep</th>\n",
       "      <th>Cabin</th>\n",
       "      <th>Destination</th>\n",
       "      <th>Age</th>\n",
       "      <th>VIP</th>\n",
       "      <th>RoomService</th>\n",
       "      <th>FoodCourt</th>\n",
       "      <th>ShoppingMall</th>\n",
       "      <th>Spa</th>\n",
       "      <th>VRDeck</th>\n",
       "      <th>Name</th>\n",
       "      <th>Transported</th>\n",
       "      <th>Deck</th>\n",
       "      <th>RoomNO</th>\n",
       "      <th>Side</th>\n",
       "    </tr>\n",
       "  </thead>\n",
       "  <tbody>\n",
       "    <tr>\n",
       "      <th>0</th>\n",
       "      <td>0001_01</td>\n",
       "      <td>Europa</td>\n",
       "      <td>False</td>\n",
       "      <td>B/0/P</td>\n",
       "      <td>TRAPPIST-1e</td>\n",
       "      <td>39.0</td>\n",
       "      <td>False</td>\n",
       "      <td>0.0</td>\n",
       "      <td>0.0</td>\n",
       "      <td>0.0</td>\n",
       "      <td>0.0</td>\n",
       "      <td>0.0</td>\n",
       "      <td>Maham Ofracculy</td>\n",
       "      <td>Retained</td>\n",
       "      <td>B</td>\n",
       "      <td>0</td>\n",
       "      <td>P</td>\n",
       "    </tr>\n",
       "    <tr>\n",
       "      <th>1</th>\n",
       "      <td>0002_01</td>\n",
       "      <td>Earth</td>\n",
       "      <td>False</td>\n",
       "      <td>F/0/S</td>\n",
       "      <td>TRAPPIST-1e</td>\n",
       "      <td>24.0</td>\n",
       "      <td>False</td>\n",
       "      <td>109.0</td>\n",
       "      <td>9.0</td>\n",
       "      <td>25.0</td>\n",
       "      <td>549.0</td>\n",
       "      <td>44.0</td>\n",
       "      <td>Juanna Vines</td>\n",
       "      <td>Tranported</td>\n",
       "      <td>F</td>\n",
       "      <td>0</td>\n",
       "      <td>S</td>\n",
       "    </tr>\n",
       "    <tr>\n",
       "      <th>2</th>\n",
       "      <td>0003_01</td>\n",
       "      <td>Europa</td>\n",
       "      <td>False</td>\n",
       "      <td>A/0/S</td>\n",
       "      <td>TRAPPIST-1e</td>\n",
       "      <td>58.0</td>\n",
       "      <td>True</td>\n",
       "      <td>43.0</td>\n",
       "      <td>3576.0</td>\n",
       "      <td>0.0</td>\n",
       "      <td>6715.0</td>\n",
       "      <td>49.0</td>\n",
       "      <td>Altark Susent</td>\n",
       "      <td>Retained</td>\n",
       "      <td>A</td>\n",
       "      <td>0</td>\n",
       "      <td>S</td>\n",
       "    </tr>\n",
       "    <tr>\n",
       "      <th>3</th>\n",
       "      <td>0003_02</td>\n",
       "      <td>Europa</td>\n",
       "      <td>False</td>\n",
       "      <td>A/0/S</td>\n",
       "      <td>TRAPPIST-1e</td>\n",
       "      <td>33.0</td>\n",
       "      <td>False</td>\n",
       "      <td>0.0</td>\n",
       "      <td>1283.0</td>\n",
       "      <td>371.0</td>\n",
       "      <td>3329.0</td>\n",
       "      <td>193.0</td>\n",
       "      <td>Solam Susent</td>\n",
       "      <td>Retained</td>\n",
       "      <td>A</td>\n",
       "      <td>0</td>\n",
       "      <td>S</td>\n",
       "    </tr>\n",
       "    <tr>\n",
       "      <th>4</th>\n",
       "      <td>0004_01</td>\n",
       "      <td>Earth</td>\n",
       "      <td>False</td>\n",
       "      <td>F/1/S</td>\n",
       "      <td>TRAPPIST-1e</td>\n",
       "      <td>16.0</td>\n",
       "      <td>False</td>\n",
       "      <td>303.0</td>\n",
       "      <td>70.0</td>\n",
       "      <td>151.0</td>\n",
       "      <td>565.0</td>\n",
       "      <td>2.0</td>\n",
       "      <td>Willy Santantines</td>\n",
       "      <td>Tranported</td>\n",
       "      <td>F</td>\n",
       "      <td>1</td>\n",
       "      <td>S</td>\n",
       "    </tr>\n",
       "    <tr>\n",
       "      <th>...</th>\n",
       "      <td>...</td>\n",
       "      <td>...</td>\n",
       "      <td>...</td>\n",
       "      <td>...</td>\n",
       "      <td>...</td>\n",
       "      <td>...</td>\n",
       "      <td>...</td>\n",
       "      <td>...</td>\n",
       "      <td>...</td>\n",
       "      <td>...</td>\n",
       "      <td>...</td>\n",
       "      <td>...</td>\n",
       "      <td>...</td>\n",
       "      <td>...</td>\n",
       "      <td>...</td>\n",
       "      <td>...</td>\n",
       "      <td>...</td>\n",
       "    </tr>\n",
       "    <tr>\n",
       "      <th>8688</th>\n",
       "      <td>9276_01</td>\n",
       "      <td>Europa</td>\n",
       "      <td>False</td>\n",
       "      <td>A/98/P</td>\n",
       "      <td>55 Cancri e</td>\n",
       "      <td>41.0</td>\n",
       "      <td>True</td>\n",
       "      <td>0.0</td>\n",
       "      <td>6819.0</td>\n",
       "      <td>0.0</td>\n",
       "      <td>1643.0</td>\n",
       "      <td>74.0</td>\n",
       "      <td>Gravior Noxnuther</td>\n",
       "      <td>Retained</td>\n",
       "      <td>A</td>\n",
       "      <td>98</td>\n",
       "      <td>P</td>\n",
       "    </tr>\n",
       "    <tr>\n",
       "      <th>8689</th>\n",
       "      <td>9278_01</td>\n",
       "      <td>Earth</td>\n",
       "      <td>True</td>\n",
       "      <td>G/1499/S</td>\n",
       "      <td>PSO J318.5-22</td>\n",
       "      <td>18.0</td>\n",
       "      <td>False</td>\n",
       "      <td>0.0</td>\n",
       "      <td>0.0</td>\n",
       "      <td>0.0</td>\n",
       "      <td>0.0</td>\n",
       "      <td>0.0</td>\n",
       "      <td>Kurta Mondalley</td>\n",
       "      <td>Retained</td>\n",
       "      <td>G</td>\n",
       "      <td>1499</td>\n",
       "      <td>S</td>\n",
       "    </tr>\n",
       "    <tr>\n",
       "      <th>8690</th>\n",
       "      <td>9279_01</td>\n",
       "      <td>Earth</td>\n",
       "      <td>False</td>\n",
       "      <td>G/1500/S</td>\n",
       "      <td>TRAPPIST-1e</td>\n",
       "      <td>26.0</td>\n",
       "      <td>False</td>\n",
       "      <td>0.0</td>\n",
       "      <td>0.0</td>\n",
       "      <td>1872.0</td>\n",
       "      <td>1.0</td>\n",
       "      <td>0.0</td>\n",
       "      <td>Fayey Connon</td>\n",
       "      <td>Tranported</td>\n",
       "      <td>G</td>\n",
       "      <td>1500</td>\n",
       "      <td>S</td>\n",
       "    </tr>\n",
       "    <tr>\n",
       "      <th>8691</th>\n",
       "      <td>9280_01</td>\n",
       "      <td>Europa</td>\n",
       "      <td>False</td>\n",
       "      <td>E/608/S</td>\n",
       "      <td>55 Cancri e</td>\n",
       "      <td>32.0</td>\n",
       "      <td>False</td>\n",
       "      <td>0.0</td>\n",
       "      <td>1049.0</td>\n",
       "      <td>0.0</td>\n",
       "      <td>353.0</td>\n",
       "      <td>3235.0</td>\n",
       "      <td>Celeon Hontichre</td>\n",
       "      <td>Retained</td>\n",
       "      <td>E</td>\n",
       "      <td>608</td>\n",
       "      <td>S</td>\n",
       "    </tr>\n",
       "    <tr>\n",
       "      <th>8692</th>\n",
       "      <td>9280_02</td>\n",
       "      <td>Europa</td>\n",
       "      <td>False</td>\n",
       "      <td>E/608/S</td>\n",
       "      <td>TRAPPIST-1e</td>\n",
       "      <td>44.0</td>\n",
       "      <td>False</td>\n",
       "      <td>126.0</td>\n",
       "      <td>4688.0</td>\n",
       "      <td>0.0</td>\n",
       "      <td>0.0</td>\n",
       "      <td>12.0</td>\n",
       "      <td>Propsh Hontichre</td>\n",
       "      <td>Tranported</td>\n",
       "      <td>E</td>\n",
       "      <td>608</td>\n",
       "      <td>S</td>\n",
       "    </tr>\n",
       "  </tbody>\n",
       "</table>\n",
       "<p>8693 rows × 17 columns</p>\n",
       "</div>"
      ],
      "text/plain": [
       "     PassengerId HomePlanet  CryoSleep     Cabin    Destination   Age    VIP  \\\n",
       "0        0001_01     Europa      False     B/0/P    TRAPPIST-1e  39.0  False   \n",
       "1        0002_01      Earth      False     F/0/S    TRAPPIST-1e  24.0  False   \n",
       "2        0003_01     Europa      False     A/0/S    TRAPPIST-1e  58.0   True   \n",
       "3        0003_02     Europa      False     A/0/S    TRAPPIST-1e  33.0  False   \n",
       "4        0004_01      Earth      False     F/1/S    TRAPPIST-1e  16.0  False   \n",
       "...          ...        ...        ...       ...            ...   ...    ...   \n",
       "8688     9276_01     Europa      False    A/98/P    55 Cancri e  41.0   True   \n",
       "8689     9278_01      Earth       True  G/1499/S  PSO J318.5-22  18.0  False   \n",
       "8690     9279_01      Earth      False  G/1500/S    TRAPPIST-1e  26.0  False   \n",
       "8691     9280_01     Europa      False   E/608/S    55 Cancri e  32.0  False   \n",
       "8692     9280_02     Europa      False   E/608/S    TRAPPIST-1e  44.0  False   \n",
       "\n",
       "      RoomService  FoodCourt  ShoppingMall     Spa  VRDeck               Name  \\\n",
       "0             0.0        0.0           0.0     0.0     0.0    Maham Ofracculy   \n",
       "1           109.0        9.0          25.0   549.0    44.0       Juanna Vines   \n",
       "2            43.0     3576.0           0.0  6715.0    49.0      Altark Susent   \n",
       "3             0.0     1283.0         371.0  3329.0   193.0       Solam Susent   \n",
       "4           303.0       70.0         151.0   565.0     2.0  Willy Santantines   \n",
       "...           ...        ...           ...     ...     ...                ...   \n",
       "8688          0.0     6819.0           0.0  1643.0    74.0  Gravior Noxnuther   \n",
       "8689          0.0        0.0           0.0     0.0     0.0    Kurta Mondalley   \n",
       "8690          0.0        0.0        1872.0     1.0     0.0       Fayey Connon   \n",
       "8691          0.0     1049.0           0.0   353.0  3235.0   Celeon Hontichre   \n",
       "8692        126.0     4688.0           0.0     0.0    12.0   Propsh Hontichre   \n",
       "\n",
       "     Transported Deck RoomNO Side  \n",
       "0       Retained    B      0    P  \n",
       "1     Tranported    F      0    S  \n",
       "2       Retained    A      0    S  \n",
       "3       Retained    A      0    S  \n",
       "4     Tranported    F      1    S  \n",
       "...          ...  ...    ...  ...  \n",
       "8688    Retained    A     98    P  \n",
       "8689    Retained    G   1499    S  \n",
       "8690  Tranported    G   1500    S  \n",
       "8691    Retained    E    608    S  \n",
       "8692  Tranported    E    608    S  \n",
       "\n",
       "[8693 rows x 17 columns]"
      ]
     },
     "execution_count": 181,
     "metadata": {},
     "output_type": "execute_result"
    }
   ],
   "source": [
    "vips = train[train.VIP == True].copy()\n",
    "non_vips = train[train.VIP == False].copy()\n",
    "\n",
    "fields_mean_or_zero = ['RoomService', 'FoodCourt', 'ShoppingMall', 'Spa', 'VRDeck']\n",
    "    \n",
    "for field in fields_mean_or_zero:\n",
    "    vips[field] = vips[field].fillna(vips[field].mean())\n",
    "    non_vips[field] = non_vips[field].fillna(0)\n",
    "    \n",
    "train = pd.concat([vips, non_vips]).sort_index()\n",
    "train"
   ]
  },
  {
   "cell_type": "code",
   "execution_count": 182,
   "id": "873d5cde",
   "metadata": {},
   "outputs": [
    {
     "data": {
      "text/plain": [
       "0.0       78\n",
       "1.0        5\n",
       "201.0      2\n",
       "207.0      2\n",
       "136.0      2\n",
       "          ..\n",
       "548.0      1\n",
       "2205.0     1\n",
       "210.0      1\n",
       "58.0       1\n",
       "1643.0     1\n",
       "Name: Spa, Length: 111, dtype: int64"
      ]
     },
     "execution_count": 182,
     "metadata": {},
     "output_type": "execute_result"
    }
   ],
   "source": [
    "vips[\"Spa\"].value_counts()"
   ]
  },
  {
   "cell_type": "code",
   "execution_count": 183,
   "id": "e56ee2d0",
   "metadata": {},
   "outputs": [],
   "source": [
    "vips_test = test[test.VIP == True].copy()\n",
    "non_vips_test= test[test.VIP == False].copy()\n",
    "\n",
    "fields_mean_or_zero = ['RoomService', 'FoodCourt', 'ShoppingMall', 'Spa', 'VRDeck']\n",
    "    \n",
    "for field in fields_mean_or_zero:\n",
    "    vips_test[field] = vips_test[field].fillna(vips_test[field].mean())\n",
    "    non_vips_test[field] = non_vips_test[field].fillna(0)\n",
    "    \n",
    "test = pd.concat([vips_test, non_vips_test]).sort_index()\n"
   ]
  },
  {
   "cell_type": "markdown",
   "id": "01d94144",
   "metadata": {},
   "source": [
    "# Let's see any NAN values still lurking"
   ]
  },
  {
   "cell_type": "code",
   "execution_count": 184,
   "id": "30ecfbb7",
   "metadata": {
    "scrolled": true
   },
   "outputs": [
    {
     "data": {
      "text/plain": [
       "PassengerId     0\n",
       "HomePlanet      0\n",
       "CryoSleep       0\n",
       "Cabin           0\n",
       "Destination     0\n",
       "Age             0\n",
       "VIP             0\n",
       "RoomService     0\n",
       "FoodCourt       0\n",
       "ShoppingMall    0\n",
       "Spa             0\n",
       "VRDeck          0\n",
       "Name            0\n",
       "Deck            0\n",
       "RoomNO          0\n",
       "Side            0\n",
       "dtype: int64"
      ]
     },
     "execution_count": 184,
     "metadata": {},
     "output_type": "execute_result"
    }
   ],
   "source": [
    "test.isnull().sum()"
   ]
  },
  {
   "cell_type": "code",
   "execution_count": 185,
   "id": "2e36a9c3",
   "metadata": {},
   "outputs": [
    {
     "data": {
      "text/plain": [
       "PassengerId     0\n",
       "HomePlanet      0\n",
       "CryoSleep       0\n",
       "Cabin           0\n",
       "Destination     0\n",
       "Age             0\n",
       "VIP             0\n",
       "RoomService     0\n",
       "FoodCourt       0\n",
       "ShoppingMall    0\n",
       "Spa             0\n",
       "VRDeck          0\n",
       "Name            0\n",
       "Transported     0\n",
       "Deck            0\n",
       "RoomNO          0\n",
       "Side            0\n",
       "dtype: int64"
      ]
     },
     "execution_count": 185,
     "metadata": {},
     "output_type": "execute_result"
    }
   ],
   "source": [
    "train.isnull().sum()"
   ]
  },
  {
   "cell_type": "markdown",
   "id": "1d2a65aa",
   "metadata": {},
   "source": [
    "#### All set To PreProcessing"
   ]
  },
  {
   "cell_type": "markdown",
   "id": "daa92f97",
   "metadata": {},
   "source": [
    "\n",
    "<h1 style=\"background-color:Yellow;text-align: center\">4. Preprocessing</h1>    "
   ]
  },
  {
   "cell_type": "markdown",
   "id": "22846a73",
   "metadata": {},
   "source": [
    "Object columns Value counts"
   ]
  },
  {
   "cell_type": "code",
   "execution_count": 186,
   "id": "16e18fb8",
   "metadata": {},
   "outputs": [
    {
     "data": {
      "text/plain": [
       "Earth     4803\n",
       "Europa    2131\n",
       "Mars      1759\n",
       "Name: HomePlanet, dtype: int64"
      ]
     },
     "execution_count": 186,
     "metadata": {},
     "output_type": "execute_result"
    }
   ],
   "source": [
    "train.HomePlanet.value_counts()"
   ]
  },
  {
   "cell_type": "code",
   "execution_count": 187,
   "id": "a480c7a1",
   "metadata": {},
   "outputs": [],
   "source": [
    "train[\"HomePlanet\"]=train[\"HomePlanet\"].map({\"Earth\":1,\"Europa\":2,\"Mars\":3})\n",
    "test[\"HomePlanet\"]=test[\"HomePlanet\"].map({\"Earth\":1,\"Europa\":2,\"Mars\":3})"
   ]
  },
  {
   "cell_type": "code",
   "execution_count": 188,
   "id": "dc57939b",
   "metadata": {},
   "outputs": [
    {
     "data": {
      "text/plain": [
       "False    5656\n",
       "True     3037\n",
       "Name: CryoSleep, dtype: int64"
      ]
     },
     "execution_count": 188,
     "metadata": {},
     "output_type": "execute_result"
    }
   ],
   "source": [
    "train.CryoSleep.value_counts()"
   ]
  },
  {
   "cell_type": "code",
   "execution_count": 189,
   "id": "26cb0d52",
   "metadata": {},
   "outputs": [],
   "source": [
    "train[\"CryoSleep\"]=train[\"CryoSleep\"].map({False:0,True:1})\n",
    "test[\"CryoSleep\"]=test[\"CryoSleep\"].map({False:0,True:1})"
   ]
  },
  {
   "cell_type": "code",
   "execution_count": 190,
   "id": "12c4bc9a",
   "metadata": {},
   "outputs": [
    {
     "data": {
      "text/plain": [
       "TRAPPIST-1e      6097\n",
       "55 Cancri e      1800\n",
       "PSO J318.5-22     796\n",
       "Name: Destination, dtype: int64"
      ]
     },
     "execution_count": 190,
     "metadata": {},
     "output_type": "execute_result"
    }
   ],
   "source": [
    "train.Destination.value_counts()"
   ]
  },
  {
   "cell_type": "code",
   "execution_count": 191,
   "id": "693ece01",
   "metadata": {},
   "outputs": [],
   "source": [
    "train[\"Destination\"]=train[\"Destination\"].map({\"TRAPPIST-1e\":1,\"55 Cancri e\":2,\"PSO J318.5-22\":3})\n",
    "test[\"Destination\"]=test[\"Destination\"].map({\"TRAPPIST-1e\":1,\"55 Cancri e\":2,\"PSO J318.5-22\":3})"
   ]
  },
  {
   "cell_type": "code",
   "execution_count": 192,
   "id": "95540602",
   "metadata": {},
   "outputs": [
    {
     "data": {
      "text/plain": [
       "1    6097\n",
       "2    1800\n",
       "3     796\n",
       "Name: Destination, dtype: int64"
      ]
     },
     "execution_count": 192,
     "metadata": {},
     "output_type": "execute_result"
    }
   ],
   "source": [
    "train.Destination.value_counts()"
   ]
  },
  {
   "cell_type": "code",
   "execution_count": 193,
   "id": "d0967bfb",
   "metadata": {},
   "outputs": [
    {
     "data": {
      "text/plain": [
       "False    8494\n",
       "True      199\n",
       "Name: VIP, dtype: int64"
      ]
     },
     "execution_count": 193,
     "metadata": {},
     "output_type": "execute_result"
    }
   ],
   "source": [
    "train.VIP.value_counts()"
   ]
  },
  {
   "cell_type": "code",
   "execution_count": 194,
   "id": "bc9b7be0",
   "metadata": {},
   "outputs": [],
   "source": [
    "train[\"VIP\"]=train[\"VIP\"].map({False:0,True:1})\n",
    "test[\"VIP\"]=test[\"VIP\"].map({False:0,True:1})"
   ]
  },
  {
   "cell_type": "code",
   "execution_count": 195,
   "id": "82f7df93",
   "metadata": {},
   "outputs": [
    {
     "data": {
      "text/plain": [
       "F    2840\n",
       "G    2612\n",
       "E     920\n",
       "B     781\n",
       "C     747\n",
       "D     528\n",
       "A     260\n",
       "T       5\n",
       "Name: Deck, dtype: int64"
      ]
     },
     "execution_count": 195,
     "metadata": {},
     "output_type": "execute_result"
    }
   ],
   "source": [
    "train.Deck.value_counts()"
   ]
  },
  {
   "cell_type": "code",
   "execution_count": 196,
   "id": "7396a59d",
   "metadata": {},
   "outputs": [],
   "source": [
    "train[\"Deck\"]=train[\"Deck\"].map({\"A\":1,\"B\":2,\"C\":3,\"D\":4,\"E\":5,\"F\":6,\"G\":7,\"T\":8})\n",
    "test[\"Deck\"]=test[\"Deck\"].map({\"A\":1,\"B\":2,\"C\":3,\"D\":4,\"E\":5,\"F\":6,\"G\":7,\"T\":8})\n"
   ]
  },
  {
   "cell_type": "code",
   "execution_count": 197,
   "id": "96579362",
   "metadata": {},
   "outputs": [
    {
     "data": {
      "text/plain": [
       "S    4395\n",
       "P    4298\n",
       "Name: Side, dtype: int64"
      ]
     },
     "execution_count": 197,
     "metadata": {},
     "output_type": "execute_result"
    }
   ],
   "source": [
    "train.Side.value_counts()"
   ]
  },
  {
   "cell_type": "code",
   "execution_count": 198,
   "id": "48107870",
   "metadata": {},
   "outputs": [],
   "source": [
    "train[\"Side\"]=train[\"Side\"].map({\"S\":1,\"P\":2})\n",
    "test[\"Side\"]=test[\"Side\"].map({\"S\":1,\"P\":2})"
   ]
  },
  {
   "cell_type": "markdown",
   "id": "a3930ed3",
   "metadata": {},
   "source": [
    "train['Side'].replace('na',np.nan,regex=True,inplace=True)\n",
    "train['Side'].value_counts()"
   ]
  },
  {
   "cell_type": "markdown",
   "id": "55b3dec9",
   "metadata": {},
   "source": [
    "import numpy as np\n",
    "def processNan (x):\n",
    "     return np.random.choice([\"S\",\"P\"])\n",
    "train['Side'] = train['Side'].apply(lambda x: processNan(x) if x is np.nan else x)"
   ]
  },
  {
   "cell_type": "code",
   "execution_count": 199,
   "id": "4c2b1799",
   "metadata": {},
   "outputs": [
    {
     "data": {
      "text/plain": [
       "Tranported    4378\n",
       "Retained      4315\n",
       "Name: Transported, dtype: int64"
      ]
     },
     "execution_count": 199,
     "metadata": {},
     "output_type": "execute_result"
    }
   ],
   "source": [
    "train['Transported'].value_counts()"
   ]
  },
  {
   "cell_type": "code",
   "execution_count": 200,
   "id": "440b46df",
   "metadata": {},
   "outputs": [],
   "source": [
    "train[\"Transported\"]=train[\"Transported\"].map({\"Retained\":-1,\"Tranported\":1})\n",
    "#test[\"Transported\"]=test[\"Tranported\"].map({False:0,True:1})"
   ]
  },
  {
   "cell_type": "code",
   "execution_count": 201,
   "id": "8dc54309",
   "metadata": {},
   "outputs": [
    {
     "data": {
      "text/plain": [
       "PassengerId      object\n",
       "HomePlanet        int64\n",
       "CryoSleep         int64\n",
       "Cabin            object\n",
       "Destination       int64\n",
       "Age             float64\n",
       "VIP               int64\n",
       "RoomService     float64\n",
       "FoodCourt       float64\n",
       "ShoppingMall    float64\n",
       "Spa             float64\n",
       "VRDeck          float64\n",
       "Name             object\n",
       "Transported       int64\n",
       "Deck              int64\n",
       "RoomNO           object\n",
       "Side              int64\n",
       "dtype: object"
      ]
     },
     "execution_count": 201,
     "metadata": {},
     "output_type": "execute_result"
    }
   ],
   "source": [
    "train.dtypes"
   ]
  },
  {
   "cell_type": "markdown",
   "id": "08e16d59",
   "metadata": {},
   "source": [
    "Let's drop some unwanted columns..before that take a copy of the DataFrame"
   ]
  },
  {
   "cell_type": "code",
   "execution_count": 202,
   "id": "d18b3d89",
   "metadata": {},
   "outputs": [],
   "source": [
    "i=np.arange(0,(len(train[\"PassengerId\"])))\n",
    "train.set_index(i,inplace=True)"
   ]
  },
  {
   "cell_type": "code",
   "execution_count": 203,
   "id": "a8bff099",
   "metadata": {},
   "outputs": [],
   "source": [
    "train_copy=train.copy()"
   ]
  },
  {
   "cell_type": "code",
   "execution_count": 204,
   "id": "d3b9d201",
   "metadata": {},
   "outputs": [
    {
     "data": {
      "text/plain": [
       "HomePlanet        1.0\n",
       "CryoSleep         0.0\n",
       "Destination       1.0\n",
       "Age              29.0\n",
       "VIP               0.0\n",
       "RoomService      68.0\n",
       "FoodCourt        74.0\n",
       "ShoppingMall    713.0\n",
       "Spa              37.0\n",
       "VRDeck           15.0\n",
       "Transported       1.0\n",
       "Deck              7.0\n",
       "Side              2.0\n",
       "Name: 6359, dtype: float64"
      ]
     },
     "execution_count": 204,
     "metadata": {},
     "output_type": "execute_result"
    }
   ],
   "source": [
    "train.drop(['PassengerId', 'Cabin',\"Name\",\"RoomNO\"], axis=1, inplace=True)\n",
    "train.iloc[6359]"
   ]
  },
  {
   "cell_type": "code",
   "execution_count": 205,
   "id": "92e98060",
   "metadata": {},
   "outputs": [],
   "source": [
    "test_copy=test.copy()"
   ]
  },
  {
   "cell_type": "code",
   "execution_count": 206,
   "id": "a3dc4053",
   "metadata": {},
   "outputs": [
    {
     "data": {
      "text/html": [
       "<div>\n",
       "<style scoped>\n",
       "    .dataframe tbody tr th:only-of-type {\n",
       "        vertical-align: middle;\n",
       "    }\n",
       "\n",
       "    .dataframe tbody tr th {\n",
       "        vertical-align: top;\n",
       "    }\n",
       "\n",
       "    .dataframe thead th {\n",
       "        text-align: right;\n",
       "    }\n",
       "</style>\n",
       "<table border=\"1\" class=\"dataframe\">\n",
       "  <thead>\n",
       "    <tr style=\"text-align: right;\">\n",
       "      <th></th>\n",
       "      <th>HomePlanet</th>\n",
       "      <th>CryoSleep</th>\n",
       "      <th>Destination</th>\n",
       "      <th>Age</th>\n",
       "      <th>VIP</th>\n",
       "      <th>RoomService</th>\n",
       "      <th>FoodCourt</th>\n",
       "      <th>ShoppingMall</th>\n",
       "      <th>Spa</th>\n",
       "      <th>VRDeck</th>\n",
       "      <th>Deck</th>\n",
       "      <th>Side</th>\n",
       "    </tr>\n",
       "  </thead>\n",
       "  <tbody>\n",
       "    <tr>\n",
       "      <th>0</th>\n",
       "      <td>1</td>\n",
       "      <td>1</td>\n",
       "      <td>1</td>\n",
       "      <td>39.0</td>\n",
       "      <td>0</td>\n",
       "      <td>0.0</td>\n",
       "      <td>0.0</td>\n",
       "      <td>0.0</td>\n",
       "      <td>0.0</td>\n",
       "      <td>0.0</td>\n",
       "      <td>7</td>\n",
       "      <td>1</td>\n",
       "    </tr>\n",
       "    <tr>\n",
       "      <th>1</th>\n",
       "      <td>1</td>\n",
       "      <td>0</td>\n",
       "      <td>1</td>\n",
       "      <td>24.0</td>\n",
       "      <td>0</td>\n",
       "      <td>0.0</td>\n",
       "      <td>9.0</td>\n",
       "      <td>0.0</td>\n",
       "      <td>2823.0</td>\n",
       "      <td>0.0</td>\n",
       "      <td>6</td>\n",
       "      <td>1</td>\n",
       "    </tr>\n",
       "    <tr>\n",
       "      <th>2</th>\n",
       "      <td>2</td>\n",
       "      <td>1</td>\n",
       "      <td>2</td>\n",
       "      <td>58.0</td>\n",
       "      <td>0</td>\n",
       "      <td>0.0</td>\n",
       "      <td>0.0</td>\n",
       "      <td>0.0</td>\n",
       "      <td>0.0</td>\n",
       "      <td>0.0</td>\n",
       "      <td>3</td>\n",
       "      <td>1</td>\n",
       "    </tr>\n",
       "    <tr>\n",
       "      <th>3</th>\n",
       "      <td>2</td>\n",
       "      <td>0</td>\n",
       "      <td>1</td>\n",
       "      <td>33.0</td>\n",
       "      <td>0</td>\n",
       "      <td>0.0</td>\n",
       "      <td>6652.0</td>\n",
       "      <td>0.0</td>\n",
       "      <td>181.0</td>\n",
       "      <td>585.0</td>\n",
       "      <td>3</td>\n",
       "      <td>1</td>\n",
       "    </tr>\n",
       "    <tr>\n",
       "      <th>4</th>\n",
       "      <td>1</td>\n",
       "      <td>0</td>\n",
       "      <td>1</td>\n",
       "      <td>16.0</td>\n",
       "      <td>0</td>\n",
       "      <td>10.0</td>\n",
       "      <td>0.0</td>\n",
       "      <td>635.0</td>\n",
       "      <td>0.0</td>\n",
       "      <td>0.0</td>\n",
       "      <td>6</td>\n",
       "      <td>1</td>\n",
       "    </tr>\n",
       "    <tr>\n",
       "      <th>...</th>\n",
       "      <td>...</td>\n",
       "      <td>...</td>\n",
       "      <td>...</td>\n",
       "      <td>...</td>\n",
       "      <td>...</td>\n",
       "      <td>...</td>\n",
       "      <td>...</td>\n",
       "      <td>...</td>\n",
       "      <td>...</td>\n",
       "      <td>...</td>\n",
       "      <td>...</td>\n",
       "      <td>...</td>\n",
       "    </tr>\n",
       "    <tr>\n",
       "      <th>4272</th>\n",
       "      <td>1</td>\n",
       "      <td>1</td>\n",
       "      <td>1</td>\n",
       "      <td>42.0</td>\n",
       "      <td>0</td>\n",
       "      <td>0.0</td>\n",
       "      <td>0.0</td>\n",
       "      <td>0.0</td>\n",
       "      <td>0.0</td>\n",
       "      <td>0.0</td>\n",
       "      <td>7</td>\n",
       "      <td>1</td>\n",
       "    </tr>\n",
       "    <tr>\n",
       "      <th>4273</th>\n",
       "      <td>1</td>\n",
       "      <td>0</td>\n",
       "      <td>1</td>\n",
       "      <td>28.0</td>\n",
       "      <td>0</td>\n",
       "      <td>0.0</td>\n",
       "      <td>847.0</td>\n",
       "      <td>17.0</td>\n",
       "      <td>10.0</td>\n",
       "      <td>144.0</td>\n",
       "      <td>4</td>\n",
       "      <td>2</td>\n",
       "    </tr>\n",
       "    <tr>\n",
       "      <th>4274</th>\n",
       "      <td>3</td>\n",
       "      <td>1</td>\n",
       "      <td>2</td>\n",
       "      <td>43.0</td>\n",
       "      <td>0</td>\n",
       "      <td>0.0</td>\n",
       "      <td>0.0</td>\n",
       "      <td>0.0</td>\n",
       "      <td>0.0</td>\n",
       "      <td>0.0</td>\n",
       "      <td>4</td>\n",
       "      <td>2</td>\n",
       "    </tr>\n",
       "    <tr>\n",
       "      <th>4275</th>\n",
       "      <td>2</td>\n",
       "      <td>0</td>\n",
       "      <td>1</td>\n",
       "      <td>55.0</td>\n",
       "      <td>0</td>\n",
       "      <td>0.0</td>\n",
       "      <td>2680.0</td>\n",
       "      <td>0.0</td>\n",
       "      <td>0.0</td>\n",
       "      <td>523.0</td>\n",
       "      <td>4</td>\n",
       "      <td>2</td>\n",
       "    </tr>\n",
       "    <tr>\n",
       "      <th>4276</th>\n",
       "      <td>1</td>\n",
       "      <td>1</td>\n",
       "      <td>3</td>\n",
       "      <td>21.0</td>\n",
       "      <td>0</td>\n",
       "      <td>0.0</td>\n",
       "      <td>0.0</td>\n",
       "      <td>0.0</td>\n",
       "      <td>0.0</td>\n",
       "      <td>0.0</td>\n",
       "      <td>7</td>\n",
       "      <td>1</td>\n",
       "    </tr>\n",
       "  </tbody>\n",
       "</table>\n",
       "<p>4277 rows × 12 columns</p>\n",
       "</div>"
      ],
      "text/plain": [
       "      HomePlanet  CryoSleep  Destination   Age  VIP  RoomService  FoodCourt  \\\n",
       "0              1          1            1  39.0    0          0.0        0.0   \n",
       "1              1          0            1  24.0    0          0.0        9.0   \n",
       "2              2          1            2  58.0    0          0.0        0.0   \n",
       "3              2          0            1  33.0    0          0.0     6652.0   \n",
       "4              1          0            1  16.0    0         10.0        0.0   \n",
       "...          ...        ...          ...   ...  ...          ...        ...   \n",
       "4272           1          1            1  42.0    0          0.0        0.0   \n",
       "4273           1          0            1  28.0    0          0.0      847.0   \n",
       "4274           3          1            2  43.0    0          0.0        0.0   \n",
       "4275           2          0            1  55.0    0          0.0     2680.0   \n",
       "4276           1          1            3  21.0    0          0.0        0.0   \n",
       "\n",
       "      ShoppingMall     Spa  VRDeck  Deck  Side  \n",
       "0              0.0     0.0     0.0     7     1  \n",
       "1              0.0  2823.0     0.0     6     1  \n",
       "2              0.0     0.0     0.0     3     1  \n",
       "3              0.0   181.0   585.0     3     1  \n",
       "4            635.0     0.0     0.0     6     1  \n",
       "...            ...     ...     ...   ...   ...  \n",
       "4272           0.0     0.0     0.0     7     1  \n",
       "4273          17.0    10.0   144.0     4     2  \n",
       "4274           0.0     0.0     0.0     4     2  \n",
       "4275           0.0     0.0   523.0     4     2  \n",
       "4276           0.0     0.0     0.0     7     1  \n",
       "\n",
       "[4277 rows x 12 columns]"
      ]
     },
     "execution_count": 206,
     "metadata": {},
     "output_type": "execute_result"
    }
   ],
   "source": [
    "test.drop(['PassengerId', 'Cabin',\"Name\",\"RoomNO\"], axis=1, inplace=True)\n",
    "test"
   ]
  },
  {
   "cell_type": "code",
   "execution_count": 207,
   "id": "a1b62b25",
   "metadata": {},
   "outputs": [
    {
     "data": {
      "text/plain": [
       "RoomService    -0.241124\n",
       "Spa            -0.218545\n",
       "VRDeck         -0.204874\n",
       "Deck           -0.112567\n",
       "Side           -0.102424\n",
       "Age            -0.074245\n",
       "VIP            -0.037261\n",
       "ShoppingMall    0.009391\n",
       "FoodCourt       0.045583\n",
       "Destination     0.067972\n",
       "HomePlanet      0.115461\n",
       "CryoSleep       0.460132\n",
       "Transported     1.000000\n",
       "Name: Transported, dtype: float64"
      ]
     },
     "execution_count": 207,
     "metadata": {},
     "output_type": "execute_result"
    }
   ],
   "source": [
    "train.corr()[\"Transported\"].sort_values()"
   ]
  },
  {
   "cell_type": "code",
   "execution_count": 247,
   "id": "ecb65c82",
   "metadata": {},
   "outputs": [
    {
     "data": {
      "text/plain": [
       "<AxesSubplot:>"
      ]
     },
     "execution_count": 247,
     "metadata": {},
     "output_type": "execute_result"
    },
    {
     "data": {
      "image/png": "[encoded data removed]",
      "text/plain": [
       "<Figure size 1080x432 with 2 Axes>"
      ]
     },
     "metadata": {
      "needs_background": "light"
     },
     "output_type": "display_data"
    }
   ],
   "source": [
    "corr=train.corr()\n",
    "plt.figure(figsize=(15,6))\n",
    "sns.heatmap(corr,annot=True,cmap='YlOrRd')"
   ]
  },
  {
   "cell_type": "code",
   "execution_count": 248,
   "id": "031dae2e",
   "metadata": {},
   "outputs": [
    {
     "ename": "TypeError",
     "evalue": "corr() got an unexpected keyword argument 'numeric_only'",
     "output_type": "error",
     "traceback": [
      "\u001b[1;31m---------------------------------------------------------------------------\u001b[0m",
      "\u001b[1;31mTypeError\u001b[0m                                 Traceback (most recent call last)",
      "\u001b[1;32m~\\AppData\\Local\\Temp/ipykernel_12856/2168687796.py\u001b[0m in \u001b[0;36m<module>\u001b[1;34m\u001b[0m\n\u001b[1;32m----> 1\u001b[1;33m \u001b[0mklib\u001b[0m\u001b[1;33m.\u001b[0m\u001b[0mcorr_mat\u001b[0m\u001b[1;33m(\u001b[0m\u001b[0mtrain\u001b[0m\u001b[1;33m)\u001b[0m\u001b[1;33m\u001b[0m\u001b[1;33m\u001b[0m\u001b[0m\n\u001b[0m",
      "\u001b[1;32m~\\anaconda3\\lib\\site-packages\\klib\\describe.py\u001b[0m in \u001b[0;36mcorr_mat\u001b[1;34m(data, split, threshold, target, method, colored)\u001b[0m\n\u001b[0;32m    244\u001b[0m \u001b[1;33m\u001b[0m\u001b[0m\n\u001b[0;32m    245\u001b[0m     \u001b[1;32melse\u001b[0m\u001b[1;33m:\u001b[0m\u001b[1;33m\u001b[0m\u001b[1;33m\u001b[0m\u001b[0m\n\u001b[1;32m--> 246\u001b[1;33m         \u001b[0mcorr\u001b[0m \u001b[1;33m=\u001b[0m \u001b[0mdata\u001b[0m\u001b[1;33m.\u001b[0m\u001b[0mcorr\u001b[0m\u001b[1;33m(\u001b[0m\u001b[0mmethod\u001b[0m\u001b[1;33m=\u001b[0m\u001b[0mmethod\u001b[0m\u001b[1;33m,\u001b[0m \u001b[0mnumeric_only\u001b[0m\u001b[1;33m=\u001b[0m\u001b[1;32mTrue\u001b[0m\u001b[1;33m)\u001b[0m\u001b[1;33m\u001b[0m\u001b[1;33m\u001b[0m\u001b[0m\n\u001b[0m\u001b[0;32m    247\u001b[0m \u001b[1;33m\u001b[0m\u001b[0m\n\u001b[0;32m    248\u001b[0m     \u001b[0mcorr\u001b[0m \u001b[1;33m=\u001b[0m \u001b[0m_corr_selector\u001b[0m\u001b[1;33m(\u001b[0m\u001b[0mcorr\u001b[0m\u001b[1;33m,\u001b[0m \u001b[0msplit\u001b[0m\u001b[1;33m=\u001b[0m\u001b[0msplit\u001b[0m\u001b[1;33m,\u001b[0m \u001b[0mthreshold\u001b[0m\u001b[1;33m=\u001b[0m\u001b[0mthreshold\u001b[0m\u001b[1;33m)\u001b[0m\u001b[1;33m\u001b[0m\u001b[1;33m\u001b[0m\u001b[0m\n",
      "\u001b[1;31mTypeError\u001b[0m: corr() got an unexpected keyword argument 'numeric_only'"
     ]
    }
   ],
   "source": [
    "klib.corr_mat(train)"
   ]
  },
  {
   "cell_type": "markdown",
   "id": "296d2576",
   "metadata": {},
   "source": [
    "sns.pairplot(\n",
    "             train,hue=\"Transported\",     \n",
    "             diag_kind='hist',\n",
    "             corner=False,\n",
    "             palette='cividis',\n",
    "            )"
   ]
  },
  {
   "cell_type": "markdown",
   "id": "cc6638ac",
   "metadata": {},
   "source": [
    "<h1 style=\"background-color:Yellow;text-align: center\">5. Model</h1>    "
   ]
  },
  {
   "cell_type": "markdown",
   "id": "3973c549",
   "metadata": {},
   "source": [
    "### Values and Target"
   ]
  },
  {
   "cell_type": "code",
   "execution_count": 209,
   "id": "ed67c075",
   "metadata": {},
   "outputs": [
    {
     "data": {
      "text/plain": [
       "0      -1\n",
       "1       1\n",
       "2      -1\n",
       "3      -1\n",
       "4       1\n",
       "       ..\n",
       "8688   -1\n",
       "8689   -1\n",
       "8690    1\n",
       "8691   -1\n",
       "8692    1\n",
       "Name: Transported, Length: 8693, dtype: int64"
      ]
     },
     "execution_count": 209,
     "metadata": {},
     "output_type": "execute_result"
    }
   ],
   "source": [
    "y=train[\"Transported\"]\n",
    "y"
   ]
  },
  {
   "cell_type": "code",
   "execution_count": 210,
   "id": "f07c2c50",
   "metadata": {},
   "outputs": [],
   "source": [
    "x=train.drop(\"Transported\",axis=1)"
   ]
  },
  {
   "cell_type": "code",
   "execution_count": 211,
   "id": "5cd64518",
   "metadata": {},
   "outputs": [],
   "source": [
    "x_svm=train[[\"CryoSleep\",\"VIP\"]]"
   ]
  },
  {
   "cell_type": "code",
   "execution_count": null,
   "id": "6da988b7",
   "metadata": {},
   "outputs": [],
   "source": []
  },
  {
   "cell_type": "code",
   "execution_count": 212,
   "id": "8d791c96",
   "metadata": {},
   "outputs": [],
   "source": [
    "from sklearn.decomposition import PCA"
   ]
  },
  {
   "cell_type": "code",
   "execution_count": 213,
   "id": "ed7721dc",
   "metadata": {},
   "outputs": [
    {
     "data": {
      "text/html": [
       "<div>\n",
       "<style scoped>\n",
       "    .dataframe tbody tr th:only-of-type {\n",
       "        vertical-align: middle;\n",
       "    }\n",
       "\n",
       "    .dataframe tbody tr th {\n",
       "        vertical-align: top;\n",
       "    }\n",
       "\n",
       "    .dataframe thead th {\n",
       "        text-align: right;\n",
       "    }\n",
       "</style>\n",
       "<table border=\"1\" class=\"dataframe\">\n",
       "  <thead>\n",
       "    <tr style=\"text-align: right;\">\n",
       "      <th></th>\n",
       "      <th>0</th>\n",
       "      <th>1</th>\n",
       "    </tr>\n",
       "  </thead>\n",
       "  <tbody>\n",
       "    <tr>\n",
       "      <th>0</th>\n",
       "      <td>-577.772424</td>\n",
       "      <td>-216.153453</td>\n",
       "    </tr>\n",
       "    <tr>\n",
       "      <th>1</th>\n",
       "      <td>-407.108227</td>\n",
       "      <td>148.506640</td>\n",
       "    </tr>\n",
       "    <tr>\n",
       "      <th>2</th>\n",
       "      <td>4567.219185</td>\n",
       "      <td>2540.153633</td>\n",
       "    </tr>\n",
       "    <tr>\n",
       "      <th>3</th>\n",
       "      <td>1568.926711</td>\n",
       "      <td>1461.681917</td>\n",
       "    </tr>\n",
       "    <tr>\n",
       "      <th>4</th>\n",
       "      <td>-360.495698</td>\n",
       "      <td>107.029659</td>\n",
       "    </tr>\n",
       "    <tr>\n",
       "      <th>...</th>\n",
       "      <td>...</td>\n",
       "      <td>...</td>\n",
       "    </tr>\n",
       "    <tr>\n",
       "      <th>8688</th>\n",
       "      <td>6160.933871</td>\n",
       "      <td>-1841.453041</td>\n",
       "    </tr>\n",
       "    <tr>\n",
       "      <th>8689</th>\n",
       "      <td>-577.802056</td>\n",
       "      <td>-216.174620</td>\n",
       "    </tr>\n",
       "    <tr>\n",
       "      <th>8690</th>\n",
       "      <td>-585.973175</td>\n",
       "      <td>-199.131996</td>\n",
       "    </tr>\n",
       "    <tr>\n",
       "      <th>8691</th>\n",
       "      <td>1397.921073</td>\n",
       "      <td>1796.253526</td>\n",
       "    </tr>\n",
       "    <tr>\n",
       "      <th>8692</th>\n",
       "      <td>3732.740791</td>\n",
       "      <td>-2054.894887</td>\n",
       "    </tr>\n",
       "  </tbody>\n",
       "</table>\n",
       "<p>8693 rows × 2 columns</p>\n",
       "</div>"
      ],
      "text/plain": [
       "                0            1\n",
       "0     -577.772424  -216.153453\n",
       "1     -407.108227   148.506640\n",
       "2     4567.219185  2540.153633\n",
       "3     1568.926711  1461.681917\n",
       "4     -360.495698   107.029659\n",
       "...           ...          ...\n",
       "8688  6160.933871 -1841.453041\n",
       "8689  -577.802056  -216.174620\n",
       "8690  -585.973175  -199.131996\n",
       "8691  1397.921073  1796.253526\n",
       "8692  3732.740791 -2054.894887\n",
       "\n",
       "[8693 rows x 2 columns]"
      ]
     },
     "execution_count": 213,
     "metadata": {},
     "output_type": "execute_result"
    }
   ],
   "source": [
    "# Create principal components\n",
    "pca = PCA(n_components=2)  \n",
    "X_pca = pca.fit_transform(x)\n",
    "#convert X_pca to DF\n",
    "X_pca = pd.DataFrame(X_pca)\n",
    "X_pca2=X_pca.copy()\n",
    "\n",
    "X_pca"
   ]
  },
  {
   "cell_type": "markdown",
   "id": "1b1d684d",
   "metadata": {},
   "source": [
    "sns.pairplot(\n",
    "             X_pca,    \n",
    "             diag_kind='hist',\n",
    "             corner=False,\n",
    "             palette='cividis',\n",
    "            )"
   ]
  },
  {
   "cell_type": "code",
   "execution_count": 214,
   "id": "735b2c3a",
   "metadata": {},
   "outputs": [],
   "source": [
    "from sklearn.model_selection import train_test_split\n",
    "xtrain,xtest,ytrain,ytest = train_test_split(x,y,test_size=0.2,random_state=20)"
   ]
  },
  {
   "cell_type": "code",
   "execution_count": 215,
   "id": "73691ab7",
   "metadata": {},
   "outputs": [
    {
     "data": {
      "text/plain": [
       "(6954, 12)"
      ]
     },
     "execution_count": 215,
     "metadata": {},
     "output_type": "execute_result"
    }
   ],
   "source": [
    "xtrain.shape"
   ]
  },
  {
   "cell_type": "code",
   "execution_count": 216,
   "id": "ed340b58",
   "metadata": {},
   "outputs": [
    {
     "data": {
      "text/plain": [
       "(1739, 12)"
      ]
     },
     "execution_count": 216,
     "metadata": {},
     "output_type": "execute_result"
    }
   ],
   "source": [
    "\n",
    "xtest.shape"
   ]
  },
  {
   "cell_type": "code",
   "execution_count": 217,
   "id": "0a92cd57",
   "metadata": {},
   "outputs": [
    {
     "data": {
      "text/plain": [
       "(6954,)"
      ]
     },
     "execution_count": 217,
     "metadata": {},
     "output_type": "execute_result"
    }
   ],
   "source": [
    "ytrain.shape"
   ]
  },
  {
   "cell_type": "code",
   "execution_count": 218,
   "id": "2eb04ae5",
   "metadata": {},
   "outputs": [
    {
     "data": {
      "text/plain": [
       "(1739,)"
      ]
     },
     "execution_count": 218,
     "metadata": {},
     "output_type": "execute_result"
    }
   ],
   "source": [
    "ytest.shape"
   ]
  },
  {
   "cell_type": "code",
   "execution_count": 219,
   "id": "849e0a02",
   "metadata": {},
   "outputs": [],
   "source": [
    "# Machine Learning Algorithms\n",
    "from sklearn.neighbors import KNeighborsClassifier\n",
    "from sklearn.ensemble import RandomForestClassifier, AdaBoostClassifier, BaggingClassifier, GradientBoostingClassifier\n",
    "from sklearn.tree import DecisionTreeClassifier"
   ]
  },
  {
   "cell_type": "code",
   "execution_count": 220,
   "id": "e9c8f54f",
   "metadata": {},
   "outputs": [],
   "source": [
    "\n",
    "algorithm = [('KNN Classifier', KNeighborsClassifier()), \n",
    "              ('Random Forest Classifier', RandomForestClassifier()),\n",
    "              ('Bagging Classifier', BaggingClassifier()),\n",
    "              ('Adaboost Classifier', AdaBoostClassifier()), \n",
    "              ('Gradientboot Classifier',GradientBoostingClassifier()),\n",
    "              ('Decision Tree Classifier', DecisionTreeClassifier())\n",
    "             ]\n",
    "\n",
    "trained_models=[]\n",
    "model_score={}\n",
    "\n",
    "for index,ml in enumerate(algorithm):\n",
    "    model=ml[1]\n",
    "    model.fit(xtrain,ytrain)\n",
    "    y_pred=model.predict(xtest)\n",
    "    model_score[ml[0]] = str(model.score(xtrain,ytrain)*100)+'%'\n",
    "    trained_models.append((ml[0],model))"
   ]
  },
  {
   "cell_type": "markdown",
   "id": "d7bea2bf",
   "metadata": {},
   "source": [
    "## Accuracy Score"
   ]
  },
  {
   "cell_type": "code",
   "execution_count": 221,
   "id": "b78cc585",
   "metadata": {},
   "outputs": [
    {
     "name": "stdout",
     "output_type": "stream",
     "text": [
      "KNN Classifier = 82.80126545872879%\n",
      "Random Forest Classifier = 94.98130572332471%\n",
      "Bagging Classifier = 93.67270635605406%\n",
      "Adaboost Classifier = 79.26373310324992%\n",
      "Gradientboot Classifier = 81.63646821972965%\n",
      "Decision Tree Classifier = 94.99568593615186%\n"
     ]
    }
   ],
   "source": [
    "for key in model_score:\n",
    "    print(key,'=',model_score[key])"
   ]
  },
  {
   "cell_type": "code",
   "execution_count": 222,
   "id": "a5420edd",
   "metadata": {},
   "outputs": [],
   "source": [
    "# Metric Evaluation Libriaries\n",
    "from sklearn.metrics import classification_report, confusion_matrix,roc_curve,auc,RocCurveDisplay"
   ]
  },
  {
   "cell_type": "code",
   "execution_count": 223,
   "id": "451eadaa",
   "metadata": {},
   "outputs": [],
   "source": [
    "def conf_matrix(algo,model):\n",
    "    print(algo)\n",
    "    plt.figure(figsize=(8,5))\n",
    "    pred=model.predict(xtest)\n",
    "    cm=confusion_matrix(ytest,pred)\n",
    "    print(ytest.shape,pred.shape)\n",
    "    sns.heatmap(cm,annot=True,cmap='YlOrRd',cbar=False)\n",
    "    ax.set_title('Confusion Matrix')\n",
    "    ax.set_xlabel('Predicted Labels')\n",
    "    ax.set_ylabel('True Label')\n",
    "    plt.show()"
   ]
  },
  {
   "cell_type": "code",
   "execution_count": 224,
   "id": "5d213888",
   "metadata": {},
   "outputs": [
    {
     "name": "stdout",
     "output_type": "stream",
     "text": [
      "KNN Classifier\n",
      "(1739,) (1739,)\n"
     ]
    },
    {
     "data": {
      "image/png": "[encoded data removed]",
      "text/plain": [
       "<Figure size 576x360 with 1 Axes>"
      ]
     },
     "metadata": {
      "needs_background": "light"
     },
     "output_type": "display_data"
    },
    {
     "name": "stdout",
     "output_type": "stream",
     "text": [
      "Random Forest Classifier\n",
      "(1739,) (1739,)\n"
     ]
    },
    {
     "data": {
      "image/png": "[encoded data removed]",
      "text/plain": [
       "<Figure size 576x360 with 1 Axes>"
      ]
     },
     "metadata": {
      "needs_background": "light"
     },
     "output_type": "display_data"
    },
    {
     "name": "stdout",
     "output_type": "stream",
     "text": [
      "Bagging Classifier\n",
      "(1739,) (1739,)\n"
     ]
    },
    {
     "data": {
      "image/png": "[encoded data removed]",
      "text/plain": [
       "<Figure size 576x360 with 1 Axes>"
      ]
     },
     "metadata": {
      "needs_background": "light"
     },
     "output_type": "display_data"
    },
    {
     "name": "stdout",
     "output_type": "stream",
     "text": [
      "Adaboost Classifier\n",
      "(1739,) (1739,)\n"
     ]
    },
    {
     "data": {
      "image/png": "[encoded data removed]",
      "text/plain": [
       "<Figure size 576x360 with 1 Axes>"
      ]
     },
     "metadata": {
      "needs_background": "light"
     },
     "output_type": "display_data"
    },
    {
     "name": "stdout",
     "output_type": "stream",
     "text": [
      "Gradientboot Classifier\n",
      "(1739,) (1739,)\n"
     ]
    },
    {
     "data": {
      "image/png": "[encoded data removed]",
      "text/plain": [
       "<Figure size 576x360 with 1 Axes>"
      ]
     },
     "metadata": {
      "needs_background": "light"
     },
     "output_type": "display_data"
    },
    {
     "name": "stdout",
     "output_type": "stream",
     "text": [
      "Decision Tree Classifier\n",
      "(1739,) (1739,)\n"
     ]
    },
    {
     "data": {
      "image/png": "[encoded data removed]",
      "text/plain": [
       "<Figure size 576x360 with 1 Axes>"
      ]
     },
     "metadata": {
      "needs_background": "light"
     },
     "output_type": "display_data"
    },
    {
     "data": {
      "text/plain": [
       "<Figure size 432x288 with 0 Axes>"
      ]
     },
     "metadata": {},
     "output_type": "display_data"
    }
   ],
   "source": [
    "#plt.figure(figsize=(12,12))\n",
    "gs = gridspec.GridSpec(28, 4)\n",
    "for index,ml in enumerate(trained_models):\n",
    "    conf_matrix(ml[0],ml[1])\n",
    "    \n",
    "plt.tight_layout() \n",
    "plt.show()\n"
   ]
  },
  {
   "cell_type": "code",
   "execution_count": 225,
   "id": "43ad12ca",
   "metadata": {},
   "outputs": [],
   "source": [
    "def p_roc_curve(algo,model):\n",
    "    print(algo)\n",
    "    y_pred_proba=model.predict_proba(xtest)[::,1]\n",
    "    fpr,tpr,thresholds=roc_curve(ytest,y_pred_proba)\n",
    "    roc_auc=auc(fpr,tpr)\n",
    "    curve=RocCurveDisplay(fpr=fpr,tpr=tpr,roc_auc=roc_auc)\n",
    "    curve.plot()\n",
    "    plt.show()"
   ]
  },
  {
   "cell_type": "code",
   "execution_count": 226,
   "id": "794e0383",
   "metadata": {},
   "outputs": [
    {
     "name": "stdout",
     "output_type": "stream",
     "text": [
      "KNN Classifier\n"
     ]
    },
    {
     "data": {
      "image/png": "[encoded data removed]",
      "text/plain": [
       "<Figure size 432x288 with 1 Axes>"
      ]
     },
     "metadata": {
      "needs_background": "light"
     },
     "output_type": "display_data"
    },
    {
     "name": "stdout",
     "output_type": "stream",
     "text": [
      "Random Forest Classifier\n"
     ]
    },
    {
     "data": {
      "image/png": "[encoded data removed]",
      "text/plain": [
       "<Figure size 432x288 with 1 Axes>"
      ]
     },
     "metadata": {
      "needs_background": "light"
     },
     "output_type": "display_data"
    },
    {
     "name": "stdout",
     "output_type": "stream",
     "text": [
      "Bagging Classifier\n"
     ]
    },
    {
     "data": {
      "image/png": "[encoded data removed]",
      "text/plain": [
       "<Figure size 432x288 with 1 Axes>"
      ]
     },
     "metadata": {
      "needs_background": "light"
     },
     "output_type": "display_data"
    },
    {
     "name": "stdout",
     "output_type": "stream",
     "text": [
      "Adaboost Classifier\n"
     ]
    },
    {
     "data": {
      "image/png": "[encoded data removed]",
      "text/plain": [
       "<Figure size 432x288 with 1 Axes>"
      ]
     },
     "metadata": {
      "needs_background": "light"
     },
     "output_type": "display_data"
    },
    {
     "name": "stdout",
     "output_type": "stream",
     "text": [
      "Gradientboot Classifier\n"
     ]
    },
    {
     "data": {
      "image/png": "[encoded data removed]",
      "text/plain": [
       "<Figure size 432x288 with 1 Axes>"
      ]
     },
     "metadata": {
      "needs_background": "light"
     },
     "output_type": "display_data"
    },
    {
     "name": "stdout",
     "output_type": "stream",
     "text": [
      "Decision Tree Classifier\n"
     ]
    },
    {
     "data": {
      "image/png": "[encoded data removed]",
      "text/plain": [
       "<Figure size 432x288 with 1 Axes>"
      ]
     },
     "metadata": {
      "needs_background": "light"
     },
     "output_type": "display_data"
    }
   ],
   "source": [
    "for index,ml in enumerate(trained_models):\n",
    "    p_roc_curve(ml[0],ml[1])\n",
    "    \n"
   ]
  },
  {
   "cell_type": "code",
   "execution_count": null,
   "id": "80cde4f0",
   "metadata": {},
   "outputs": [],
   "source": [
    "Test values:"
   ]
  },
  {
   "cell_type": "code",
   "execution_count": 228,
   "id": "4fcb0422",
   "metadata": {},
   "outputs": [
    {
     "data": {
      "text/html": [
       "<div>\n",
       "<style scoped>\n",
       "    .dataframe tbody tr th:only-of-type {\n",
       "        vertical-align: middle;\n",
       "    }\n",
       "\n",
       "    .dataframe tbody tr th {\n",
       "        vertical-align: top;\n",
       "    }\n",
       "\n",
       "    .dataframe thead th {\n",
       "        text-align: right;\n",
       "    }\n",
       "</style>\n",
       "<table border=\"1\" class=\"dataframe\">\n",
       "  <thead>\n",
       "    <tr style=\"text-align: right;\">\n",
       "      <th></th>\n",
       "      <th>PassengerId</th>\n",
       "      <th>HomePlanet</th>\n",
       "      <th>CryoSleep</th>\n",
       "      <th>Cabin</th>\n",
       "      <th>Destination</th>\n",
       "      <th>Age</th>\n",
       "      <th>VIP</th>\n",
       "      <th>RoomService</th>\n",
       "      <th>FoodCourt</th>\n",
       "      <th>ShoppingMall</th>\n",
       "      <th>...</th>\n",
       "      <th>Name</th>\n",
       "      <th>Deck</th>\n",
       "      <th>RoomNO</th>\n",
       "      <th>Side</th>\n",
       "      <th>KNeighborsClassifier()Prediction</th>\n",
       "      <th>RandomForestClassifier()Prediction</th>\n",
       "      <th>BaggingClassifier()Prediction</th>\n",
       "      <th>AdaBoostClassifier()Prediction</th>\n",
       "      <th>GradientBoostingClassifier()Prediction</th>\n",
       "      <th>DecisionTreeClassifier()Prediction</th>\n",
       "    </tr>\n",
       "  </thead>\n",
       "  <tbody>\n",
       "    <tr>\n",
       "      <th>0</th>\n",
       "      <td>0013_01</td>\n",
       "      <td>1</td>\n",
       "      <td>1</td>\n",
       "      <td>G/3/S</td>\n",
       "      <td>1</td>\n",
       "      <td>39.0</td>\n",
       "      <td>0</td>\n",
       "      <td>0.0</td>\n",
       "      <td>0.0</td>\n",
       "      <td>0.0</td>\n",
       "      <td>...</td>\n",
       "      <td>Nelly Carsoning</td>\n",
       "      <td>7</td>\n",
       "      <td>3</td>\n",
       "      <td>1</td>\n",
       "      <td>1</td>\n",
       "      <td>1</td>\n",
       "      <td>1</td>\n",
       "      <td>1</td>\n",
       "      <td>1</td>\n",
       "      <td>1</td>\n",
       "    </tr>\n",
       "    <tr>\n",
       "      <th>1</th>\n",
       "      <td>0018_01</td>\n",
       "      <td>1</td>\n",
       "      <td>0</td>\n",
       "      <td>F/4/S</td>\n",
       "      <td>1</td>\n",
       "      <td>24.0</td>\n",
       "      <td>0</td>\n",
       "      <td>0.0</td>\n",
       "      <td>9.0</td>\n",
       "      <td>0.0</td>\n",
       "      <td>...</td>\n",
       "      <td>Lerome Peckers</td>\n",
       "      <td>6</td>\n",
       "      <td>4</td>\n",
       "      <td>1</td>\n",
       "      <td>-1</td>\n",
       "      <td>-1</td>\n",
       "      <td>-1</td>\n",
       "      <td>-1</td>\n",
       "      <td>-1</td>\n",
       "      <td>-1</td>\n",
       "    </tr>\n",
       "    <tr>\n",
       "      <th>2</th>\n",
       "      <td>0019_01</td>\n",
       "      <td>2</td>\n",
       "      <td>1</td>\n",
       "      <td>C/0/S</td>\n",
       "      <td>2</td>\n",
       "      <td>58.0</td>\n",
       "      <td>0</td>\n",
       "      <td>0.0</td>\n",
       "      <td>0.0</td>\n",
       "      <td>0.0</td>\n",
       "      <td>...</td>\n",
       "      <td>Sabih Unhearfus</td>\n",
       "      <td>3</td>\n",
       "      <td>0</td>\n",
       "      <td>1</td>\n",
       "      <td>1</td>\n",
       "      <td>1</td>\n",
       "      <td>1</td>\n",
       "      <td>1</td>\n",
       "      <td>1</td>\n",
       "      <td>1</td>\n",
       "    </tr>\n",
       "    <tr>\n",
       "      <th>3</th>\n",
       "      <td>0021_01</td>\n",
       "      <td>2</td>\n",
       "      <td>0</td>\n",
       "      <td>C/1/S</td>\n",
       "      <td>1</td>\n",
       "      <td>33.0</td>\n",
       "      <td>0</td>\n",
       "      <td>0.0</td>\n",
       "      <td>6652.0</td>\n",
       "      <td>0.0</td>\n",
       "      <td>...</td>\n",
       "      <td>Meratz Caltilter</td>\n",
       "      <td>3</td>\n",
       "      <td>1</td>\n",
       "      <td>1</td>\n",
       "      <td>1</td>\n",
       "      <td>1</td>\n",
       "      <td>1</td>\n",
       "      <td>1</td>\n",
       "      <td>1</td>\n",
       "      <td>1</td>\n",
       "    </tr>\n",
       "    <tr>\n",
       "      <th>4</th>\n",
       "      <td>0023_01</td>\n",
       "      <td>1</td>\n",
       "      <td>0</td>\n",
       "      <td>F/5/S</td>\n",
       "      <td>1</td>\n",
       "      <td>16.0</td>\n",
       "      <td>0</td>\n",
       "      <td>10.0</td>\n",
       "      <td>0.0</td>\n",
       "      <td>635.0</td>\n",
       "      <td>...</td>\n",
       "      <td>Brence Harperez</td>\n",
       "      <td>6</td>\n",
       "      <td>5</td>\n",
       "      <td>1</td>\n",
       "      <td>-1</td>\n",
       "      <td>-1</td>\n",
       "      <td>1</td>\n",
       "      <td>1</td>\n",
       "      <td>1</td>\n",
       "      <td>-1</td>\n",
       "    </tr>\n",
       "    <tr>\n",
       "      <th>...</th>\n",
       "      <td>...</td>\n",
       "      <td>...</td>\n",
       "      <td>...</td>\n",
       "      <td>...</td>\n",
       "      <td>...</td>\n",
       "      <td>...</td>\n",
       "      <td>...</td>\n",
       "      <td>...</td>\n",
       "      <td>...</td>\n",
       "      <td>...</td>\n",
       "      <td>...</td>\n",
       "      <td>...</td>\n",
       "      <td>...</td>\n",
       "      <td>...</td>\n",
       "      <td>...</td>\n",
       "      <td>...</td>\n",
       "      <td>...</td>\n",
       "      <td>...</td>\n",
       "      <td>...</td>\n",
       "      <td>...</td>\n",
       "      <td>...</td>\n",
       "    </tr>\n",
       "    <tr>\n",
       "      <th>4272</th>\n",
       "      <td>9266_02</td>\n",
       "      <td>1</td>\n",
       "      <td>1</td>\n",
       "      <td>G/1496/S</td>\n",
       "      <td>1</td>\n",
       "      <td>42.0</td>\n",
       "      <td>0</td>\n",
       "      <td>0.0</td>\n",
       "      <td>0.0</td>\n",
       "      <td>0.0</td>\n",
       "      <td>...</td>\n",
       "      <td>Jeron Peter</td>\n",
       "      <td>7</td>\n",
       "      <td>1496</td>\n",
       "      <td>1</td>\n",
       "      <td>1</td>\n",
       "      <td>1</td>\n",
       "      <td>1</td>\n",
       "      <td>1</td>\n",
       "      <td>1</td>\n",
       "      <td>1</td>\n",
       "    </tr>\n",
       "    <tr>\n",
       "      <th>4273</th>\n",
       "      <td>9269_01</td>\n",
       "      <td>1</td>\n",
       "      <td>0</td>\n",
       "      <td>na/0/na</td>\n",
       "      <td>1</td>\n",
       "      <td>28.0</td>\n",
       "      <td>0</td>\n",
       "      <td>0.0</td>\n",
       "      <td>847.0</td>\n",
       "      <td>17.0</td>\n",
       "      <td>...</td>\n",
       "      <td>Matty Scheron</td>\n",
       "      <td>4</td>\n",
       "      <td>0</td>\n",
       "      <td>2</td>\n",
       "      <td>-1</td>\n",
       "      <td>-1</td>\n",
       "      <td>-1</td>\n",
       "      <td>-1</td>\n",
       "      <td>-1</td>\n",
       "      <td>-1</td>\n",
       "    </tr>\n",
       "    <tr>\n",
       "      <th>4274</th>\n",
       "      <td>9271_01</td>\n",
       "      <td>3</td>\n",
       "      <td>1</td>\n",
       "      <td>D/296/P</td>\n",
       "      <td>2</td>\n",
       "      <td>43.0</td>\n",
       "      <td>0</td>\n",
       "      <td>0.0</td>\n",
       "      <td>0.0</td>\n",
       "      <td>0.0</td>\n",
       "      <td>...</td>\n",
       "      <td>Jayrin Pore</td>\n",
       "      <td>4</td>\n",
       "      <td>296</td>\n",
       "      <td>2</td>\n",
       "      <td>1</td>\n",
       "      <td>1</td>\n",
       "      <td>1</td>\n",
       "      <td>1</td>\n",
       "      <td>1</td>\n",
       "      <td>1</td>\n",
       "    </tr>\n",
       "    <tr>\n",
       "      <th>4275</th>\n",
       "      <td>9273_01</td>\n",
       "      <td>2</td>\n",
       "      <td>0</td>\n",
       "      <td>D/297/P</td>\n",
       "      <td>1</td>\n",
       "      <td>55.0</td>\n",
       "      <td>0</td>\n",
       "      <td>0.0</td>\n",
       "      <td>2680.0</td>\n",
       "      <td>0.0</td>\n",
       "      <td>...</td>\n",
       "      <td>Kitakan Conale</td>\n",
       "      <td>4</td>\n",
       "      <td>297</td>\n",
       "      <td>2</td>\n",
       "      <td>1</td>\n",
       "      <td>1</td>\n",
       "      <td>1</td>\n",
       "      <td>1</td>\n",
       "      <td>1</td>\n",
       "      <td>1</td>\n",
       "    </tr>\n",
       "    <tr>\n",
       "      <th>4276</th>\n",
       "      <td>9277_01</td>\n",
       "      <td>1</td>\n",
       "      <td>1</td>\n",
       "      <td>G/1498/S</td>\n",
       "      <td>3</td>\n",
       "      <td>21.0</td>\n",
       "      <td>0</td>\n",
       "      <td>0.0</td>\n",
       "      <td>0.0</td>\n",
       "      <td>0.0</td>\n",
       "      <td>...</td>\n",
       "      <td>Lilace Leonzaley</td>\n",
       "      <td>7</td>\n",
       "      <td>1498</td>\n",
       "      <td>1</td>\n",
       "      <td>1</td>\n",
       "      <td>-1</td>\n",
       "      <td>-1</td>\n",
       "      <td>1</td>\n",
       "      <td>1</td>\n",
       "      <td>-1</td>\n",
       "    </tr>\n",
       "  </tbody>\n",
       "</table>\n",
       "<p>4277 rows × 22 columns</p>\n",
       "</div>"
      ],
      "text/plain": [
       "     PassengerId  HomePlanet  CryoSleep     Cabin  Destination   Age  VIP  \\\n",
       "0        0013_01           1          1     G/3/S            1  39.0    0   \n",
       "1        0018_01           1          0     F/4/S            1  24.0    0   \n",
       "2        0019_01           2          1     C/0/S            2  58.0    0   \n",
       "3        0021_01           2          0     C/1/S            1  33.0    0   \n",
       "4        0023_01           1          0     F/5/S            1  16.0    0   \n",
       "...          ...         ...        ...       ...          ...   ...  ...   \n",
       "4272     9266_02           1          1  G/1496/S            1  42.0    0   \n",
       "4273     9269_01           1          0   na/0/na            1  28.0    0   \n",
       "4274     9271_01           3          1   D/296/P            2  43.0    0   \n",
       "4275     9273_01           2          0   D/297/P            1  55.0    0   \n",
       "4276     9277_01           1          1  G/1498/S            3  21.0    0   \n",
       "\n",
       "      RoomService  FoodCourt  ShoppingMall  ...              Name  Deck  \\\n",
       "0             0.0        0.0           0.0  ...   Nelly Carsoning     7   \n",
       "1             0.0        9.0           0.0  ...    Lerome Peckers     6   \n",
       "2             0.0        0.0           0.0  ...   Sabih Unhearfus     3   \n",
       "3             0.0     6652.0           0.0  ...  Meratz Caltilter     3   \n",
       "4            10.0        0.0         635.0  ...   Brence Harperez     6   \n",
       "...           ...        ...           ...  ...               ...   ...   \n",
       "4272          0.0        0.0           0.0  ...       Jeron Peter     7   \n",
       "4273          0.0      847.0          17.0  ...     Matty Scheron     4   \n",
       "4274          0.0        0.0           0.0  ...       Jayrin Pore     4   \n",
       "4275          0.0     2680.0           0.0  ...    Kitakan Conale     4   \n",
       "4276          0.0        0.0           0.0  ...  Lilace Leonzaley     7   \n",
       "\n",
       "     RoomNO  Side KNeighborsClassifier()Prediction  \\\n",
       "0         3     1                                1   \n",
       "1         4     1                               -1   \n",
       "2         0     1                                1   \n",
       "3         1     1                                1   \n",
       "4         5     1                               -1   \n",
       "...     ...   ...                              ...   \n",
       "4272   1496     1                                1   \n",
       "4273      0     2                               -1   \n",
       "4274    296     2                                1   \n",
       "4275    297     2                                1   \n",
       "4276   1498     1                                1   \n",
       "\n",
       "      RandomForestClassifier()Prediction  BaggingClassifier()Prediction  \\\n",
       "0                                      1                              1   \n",
       "1                                     -1                             -1   \n",
       "2                                      1                              1   \n",
       "3                                      1                              1   \n",
       "4                                     -1                              1   \n",
       "...                                  ...                            ...   \n",
       "4272                                   1                              1   \n",
       "4273                                  -1                             -1   \n",
       "4274                                   1                              1   \n",
       "4275                                   1                              1   \n",
       "4276                                  -1                             -1   \n",
       "\n",
       "      AdaBoostClassifier()Prediction  GradientBoostingClassifier()Prediction  \\\n",
       "0                                  1                                       1   \n",
       "1                                 -1                                      -1   \n",
       "2                                  1                                       1   \n",
       "3                                  1                                       1   \n",
       "4                                  1                                       1   \n",
       "...                              ...                                     ...   \n",
       "4272                               1                                       1   \n",
       "4273                              -1                                      -1   \n",
       "4274                               1                                       1   \n",
       "4275                               1                                       1   \n",
       "4276                               1                                       1   \n",
       "\n",
       "      DecisionTreeClassifier()Prediction  \n",
       "0                                      1  \n",
       "1                                     -1  \n",
       "2                                      1  \n",
       "3                                      1  \n",
       "4                                     -1  \n",
       "...                                  ...  \n",
       "4272                                   1  \n",
       "4273                                  -1  \n",
       "4274                                   1  \n",
       "4275                                   1  \n",
       "4276                                  -1  \n",
       "\n",
       "[4277 rows x 22 columns]"
      ]
     },
     "execution_count": 228,
     "metadata": {},
     "output_type": "execute_result"
    }
   ],
   "source": [
    "for index,ml in enumerate(algorithm):\n",
    "    model=ml[1]\n",
    "    \n",
    "    y_pred=model.predict(test)\n",
    "    test_copy[str(ml[1])+\"Prediction\"]=y_pred\n",
    "test_copy"
   ]
  },
  {
   "cell_type": "code",
   "execution_count": 238,
   "id": "7cc1a167",
   "metadata": {},
   "outputs": [],
   "source": [
    "test_copy.to_csv(\"prediction.csv\",index=False)\n"
   ]
  },
  {
   "cell_type": "code",
   "execution_count": 242,
   "id": "123158c3",
   "metadata": {},
   "outputs": [
    {
     "data": {
      "text/html": [
       "<div>\n",
       "<style scoped>\n",
       "    .dataframe tbody tr th:only-of-type {\n",
       "        vertical-align: middle;\n",
       "    }\n",
       "\n",
       "    .dataframe tbody tr th {\n",
       "        vertical-align: top;\n",
       "    }\n",
       "\n",
       "    .dataframe thead th {\n",
       "        text-align: right;\n",
       "    }\n",
       "</style>\n",
       "<table border=\"1\" class=\"dataframe\">\n",
       "  <thead>\n",
       "    <tr style=\"text-align: right;\">\n",
       "      <th></th>\n",
       "      <th>PassengerId</th>\n",
       "      <th>Transported</th>\n",
       "    </tr>\n",
       "  </thead>\n",
       "  <tbody>\n",
       "    <tr>\n",
       "      <th>0</th>\n",
       "      <td>0013_01</td>\n",
       "      <td>True</td>\n",
       "    </tr>\n",
       "    <tr>\n",
       "      <th>1</th>\n",
       "      <td>0018_01</td>\n",
       "      <td>False</td>\n",
       "    </tr>\n",
       "    <tr>\n",
       "      <th>2</th>\n",
       "      <td>0019_01</td>\n",
       "      <td>True</td>\n",
       "    </tr>\n",
       "    <tr>\n",
       "      <th>3</th>\n",
       "      <td>0021_01</td>\n",
       "      <td>True</td>\n",
       "    </tr>\n",
       "    <tr>\n",
       "      <th>4</th>\n",
       "      <td>0023_01</td>\n",
       "      <td>False</td>\n",
       "    </tr>\n",
       "    <tr>\n",
       "      <th>...</th>\n",
       "      <td>...</td>\n",
       "      <td>...</td>\n",
       "    </tr>\n",
       "    <tr>\n",
       "      <th>4272</th>\n",
       "      <td>9266_02</td>\n",
       "      <td>True</td>\n",
       "    </tr>\n",
       "    <tr>\n",
       "      <th>4273</th>\n",
       "      <td>9269_01</td>\n",
       "      <td>False</td>\n",
       "    </tr>\n",
       "    <tr>\n",
       "      <th>4274</th>\n",
       "      <td>9271_01</td>\n",
       "      <td>True</td>\n",
       "    </tr>\n",
       "    <tr>\n",
       "      <th>4275</th>\n",
       "      <td>9273_01</td>\n",
       "      <td>True</td>\n",
       "    </tr>\n",
       "    <tr>\n",
       "      <th>4276</th>\n",
       "      <td>9277_01</td>\n",
       "      <td>False</td>\n",
       "    </tr>\n",
       "  </tbody>\n",
       "</table>\n",
       "<p>4277 rows × 2 columns</p>\n",
       "</div>"
      ],
      "text/plain": [
       "     PassengerId  Transported\n",
       "0        0013_01         True\n",
       "1        0018_01        False\n",
       "2        0019_01         True\n",
       "3        0021_01         True\n",
       "4        0023_01        False\n",
       "...          ...          ...\n",
       "4272     9266_02         True\n",
       "4273     9269_01        False\n",
       "4274     9271_01         True\n",
       "4275     9273_01         True\n",
       "4276     9277_01        False\n",
       "\n",
       "[4277 rows x 2 columns]"
      ]
     },
     "execution_count": 242,
     "metadata": {},
     "output_type": "execute_result"
    }
   ],
   "source": [
    "test_submission = test_copy[['PassengerId',\"DecisionTreeClassifier()Prediction\" ]].copy()\n",
    "test_submission.rename(columns = {'DecisionTreeClassifier()Prediction':'Transported'}, inplace = True)\n",
    "test_submission[\"Transported\"]=test_submission[\"Transported\"].map({-1:False,1:True})\n",
    "test_submission"
   ]
  },
  {
   "cell_type": "code",
   "execution_count": 243,
   "id": "fc69ca45",
   "metadata": {},
   "outputs": [],
   "source": [
    "test_submission.to_csv(\"submission.csv\",index=False)"
   ]
  }
 ],
 "metadata": {
  "kernelspec": {
   "display_name": "Python 3 (ipykernel)",
   "language": "python",
   "name": "python3"
  },
  "language_info": {
   "codemirror_mode": {
    "name": "ipython",
    "version": 3
   },
   "file_extension": ".py",
   "mimetype": "text/x-python",
   "name": "python",
   "nbconvert_exporter": "python",
   "pygments_lexer": "ipython3",
   "version": "3.9.7"
  }
 },
 "nbformat": 4,
 "nbformat_minor": 5
}
